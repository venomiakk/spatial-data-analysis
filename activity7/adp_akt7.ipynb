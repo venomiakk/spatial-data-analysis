{
 "cells": [
  {
   "cell_type": "markdown",
   "id": "5501800e",
   "metadata": {},
   "source": [
    "<b>Aktywność 7</b><br>\n",
    "Niezbędne biblioteki: geopandas, pandas, pyproj"
   ]
  },
  {
   "cell_type": "markdown",
   "id": "d04b8664",
   "metadata": {},
   "source": [
    "<b>Ćwiczenie 1.</b> Wczytaj dane z pliku ``shopping_centres.txt`` do obiektu typu DataFrame o nazwie shopping_centres."
   ]
  },
  {
   "cell_type": "code",
   "id": "29f8e69b",
   "metadata": {
    "ExecuteTime": {
     "end_time": "2024-11-20T14:44:06.092555Z",
     "start_time": "2024-11-20T14:44:06.085304Z"
    }
   },
   "source": [
    "import pandas as pd\n",
    "\n",
    "### your code ###\n",
    "shopping_centres = pd.read_csv('shopping_centres.txt', sep=';')\n",
    "print(shopping_centres.head())"
   ],
   "outputs": [
    {
     "name": "stdout",
     "output_type": "stream",
     "text": [
      "   id       name                                            addr\n",
      "0   0       Itis            Itäkatu 1-7, 00930 Helsinki, Finland\n",
      "1   1      Forum  Mannerheimintie 14–20, 00100 Helsinki, Finland\n",
      "2   2  Iso-omena           Piispansilta 11, 02230 Espoo, Finland\n",
      "3   3      Sello       Leppävaarankatu 3-9, 02600 Espoo, Finland\n",
      "4   4      Jumbo      Vantaanportinkatu 3, 01510 Vantaa, Finland\n"
     ]
    }
   ],
   "execution_count": 206
  },
  {
   "cell_type": "markdown",
   "id": "3540b072",
   "metadata": {},
   "source": [
    "Zweryfikuj poprawność kodu."
   ]
  },
  {
   "cell_type": "code",
   "id": "a23a1ccc",
   "metadata": {
    "ExecuteTime": {
     "end_time": "2024-11-20T14:44:06.140994Z",
     "start_time": "2024-11-20T14:44:06.137994Z"
    }
   },
   "source": [
    "assert isinstance(shopping_centres, pd.DataFrame)\n",
    "for column in ('id', 'name', 'addr'):\n",
    "    assert column in shopping_centres.columns"
   ],
   "outputs": [],
   "execution_count": 207
  },
  {
   "cell_type": "markdown",
   "id": "507098e8",
   "metadata": {},
   "source": [
    "<b>Ćwiczenie 2.</b> Przeprowadź geokodowanie adresów z wykorzystaniem zmiennej geocoded_addresses i geokodera Nominatim."
   ]
  },
  {
   "cell_type": "code",
   "id": "73f42436",
   "metadata": {
    "ExecuteTime": {
     "end_time": "2024-11-20T14:44:10.773425Z",
     "start_time": "2024-11-20T14:44:06.155341Z"
    }
   },
   "source": [
    "from geopandas.tools import geocode\n",
    "\n",
    "### your code ###\n",
    "geocoded_addresses = geocode(shopping_centres['addr'], provider='Nominatim', user_agent='myapp1')\n",
    "print(geocoded_addresses.head())\n"
   ],
   "outputs": [
    {
     "name": "stdout",
     "output_type": "stream",
     "text": [
      "                    geometry  \\\n",
      "0  POINT (25.08282 60.21165)   \n",
      "1  POINT (24.93812 60.16824)   \n",
      "2  POINT (24.73997 60.16025)   \n",
      "3  POINT (24.80994 60.21867)   \n",
      "4  POINT (24.96568 60.29159)   \n",
      "\n",
      "                                             address  \n",
      "0  Fafa’s, 1-7, Itäkatu, Itäkeskus, Vartiokylä, I...  \n",
      "1  Certego, 14-20, Mannerheimintie, Keskusta, Klu...  \n",
      "2  Iso Omena, 11, Piispansilta, Matinkylän keskus...  \n",
      "3  3-9, Leppävaarankatu, Ruusutorppa, Etelä-Leppä...  \n",
      "4  Jumbo, 3, Vantaanportinkatu, Vantaanportti, Pa...  \n"
     ]
    }
   ],
   "execution_count": 208
  },
  {
   "cell_type": "markdown",
   "id": "0fed2f59",
   "metadata": {},
   "source": [
    "<b>Ćwiczenie 3.</b> Złącz wynik geokodowania z danymi wejściowymi i zapisz je w obiekcie typu GeoDataFrame o nazwie shopping_centres."
   ]
  },
  {
   "cell_type": "code",
   "id": "e5ce13f0",
   "metadata": {
    "ExecuteTime": {
     "end_time": "2024-11-20T14:44:10.791125Z",
     "start_time": "2024-11-20T14:44:10.776859Z"
    }
   },
   "source": [
    "import geopandas as gpd\n",
    "\n",
    "### your code ###\n",
    "shopping_centres = shopping_centres.join(geocoded_addresses)\n",
    "shopping_centres = gpd.GeoDataFrame(shopping_centres, geometry='geometry')\n",
    "shopping_centres\n",
    "\n"
   ],
   "outputs": [
    {
     "data": {
      "text/plain": [
       "   id       name                                            addr  \\\n",
       "0   0       Itis            Itäkatu 1-7, 00930 Helsinki, Finland   \n",
       "1   1      Forum  Mannerheimintie 14–20, 00100 Helsinki, Finland   \n",
       "2   2  Iso-omena           Piispansilta 11, 02230 Espoo, Finland   \n",
       "3   3      Sello       Leppävaarankatu 3-9, 02600 Espoo, Finland   \n",
       "4   4      Jumbo      Vantaanportinkatu 3, 01510 Vantaa, Finland   \n",
       "5   5       REDI   Hermannin rantatie 5, 00580 Helsinki, Finland   \n",
       "6   6     Tripla      Fredikanterassi 1, 00520 Helsinki, Finland   \n",
       "\n",
       "                    geometry  \\\n",
       "0  POINT (25.08282 60.21165)   \n",
       "1  POINT (24.93812 60.16824)   \n",
       "2  POINT (24.73997 60.16025)   \n",
       "3  POINT (24.80994 60.21867)   \n",
       "4  POINT (24.96568 60.29159)   \n",
       "5  POINT (24.97965 60.18683)   \n",
       "6  POINT (24.93136 60.19821)   \n",
       "\n",
       "                                             address  \n",
       "0  Fafa’s, 1-7, Itäkatu, Itäkeskus, Vartiokylä, I...  \n",
       "1  Certego, 14-20, Mannerheimintie, Keskusta, Klu...  \n",
       "2  Iso Omena, 11, Piispansilta, Matinkylän keskus...  \n",
       "3  3-9, Leppävaarankatu, Ruusutorppa, Etelä-Leppä...  \n",
       "4  Jumbo, 3, Vantaanportinkatu, Vantaanportti, Pa...  \n",
       "5  Redi, 5, Hermannin rantatie, Verkkosaari, Kala...  \n",
       "6  Original Sokos Hotel Tripla, 1, Fredikanterass...  "
      ],
      "text/html": [
       "<div>\n",
       "<style scoped>\n",
       "    .dataframe tbody tr th:only-of-type {\n",
       "        vertical-align: middle;\n",
       "    }\n",
       "\n",
       "    .dataframe tbody tr th {\n",
       "        vertical-align: top;\n",
       "    }\n",
       "\n",
       "    .dataframe thead th {\n",
       "        text-align: right;\n",
       "    }\n",
       "</style>\n",
       "<table border=\"1\" class=\"dataframe\">\n",
       "  <thead>\n",
       "    <tr style=\"text-align: right;\">\n",
       "      <th></th>\n",
       "      <th>id</th>\n",
       "      <th>name</th>\n",
       "      <th>addr</th>\n",
       "      <th>geometry</th>\n",
       "      <th>address</th>\n",
       "    </tr>\n",
       "  </thead>\n",
       "  <tbody>\n",
       "    <tr>\n",
       "      <th>0</th>\n",
       "      <td>0</td>\n",
       "      <td>Itis</td>\n",
       "      <td>Itäkatu 1-7, 00930 Helsinki, Finland</td>\n",
       "      <td>POINT (25.08282 60.21165)</td>\n",
       "      <td>Fafa’s, 1-7, Itäkatu, Itäkeskus, Vartiokylä, I...</td>\n",
       "    </tr>\n",
       "    <tr>\n",
       "      <th>1</th>\n",
       "      <td>1</td>\n",
       "      <td>Forum</td>\n",
       "      <td>Mannerheimintie 14–20, 00100 Helsinki, Finland</td>\n",
       "      <td>POINT (24.93812 60.16824)</td>\n",
       "      <td>Certego, 14-20, Mannerheimintie, Keskusta, Klu...</td>\n",
       "    </tr>\n",
       "    <tr>\n",
       "      <th>2</th>\n",
       "      <td>2</td>\n",
       "      <td>Iso-omena</td>\n",
       "      <td>Piispansilta 11, 02230 Espoo, Finland</td>\n",
       "      <td>POINT (24.73997 60.16025)</td>\n",
       "      <td>Iso Omena, 11, Piispansilta, Matinkylän keskus...</td>\n",
       "    </tr>\n",
       "    <tr>\n",
       "      <th>3</th>\n",
       "      <td>3</td>\n",
       "      <td>Sello</td>\n",
       "      <td>Leppävaarankatu 3-9, 02600 Espoo, Finland</td>\n",
       "      <td>POINT (24.80994 60.21867)</td>\n",
       "      <td>3-9, Leppävaarankatu, Ruusutorppa, Etelä-Leppä...</td>\n",
       "    </tr>\n",
       "    <tr>\n",
       "      <th>4</th>\n",
       "      <td>4</td>\n",
       "      <td>Jumbo</td>\n",
       "      <td>Vantaanportinkatu 3, 01510 Vantaa, Finland</td>\n",
       "      <td>POINT (24.96568 60.29159)</td>\n",
       "      <td>Jumbo, 3, Vantaanportinkatu, Vantaanportti, Pa...</td>\n",
       "    </tr>\n",
       "    <tr>\n",
       "      <th>5</th>\n",
       "      <td>5</td>\n",
       "      <td>REDI</td>\n",
       "      <td>Hermannin rantatie 5, 00580 Helsinki, Finland</td>\n",
       "      <td>POINT (24.97965 60.18683)</td>\n",
       "      <td>Redi, 5, Hermannin rantatie, Verkkosaari, Kala...</td>\n",
       "    </tr>\n",
       "    <tr>\n",
       "      <th>6</th>\n",
       "      <td>6</td>\n",
       "      <td>Tripla</td>\n",
       "      <td>Fredikanterassi 1, 00520 Helsinki, Finland</td>\n",
       "      <td>POINT (24.93136 60.19821)</td>\n",
       "      <td>Original Sokos Hotel Tripla, 1, Fredikanterass...</td>\n",
       "    </tr>\n",
       "  </tbody>\n",
       "</table>\n",
       "</div>"
      ]
     },
     "execution_count": 209,
     "metadata": {},
     "output_type": "execute_result"
    }
   ],
   "execution_count": 209
  },
  {
   "cell_type": "markdown",
   "id": "4595d70f",
   "metadata": {},
   "source": [
    "Zweryfikuj poprawność kodu."
   ]
  },
  {
   "cell_type": "code",
   "id": "ae36cc15",
   "metadata": {
    "ExecuteTime": {
     "end_time": "2024-11-20T14:44:10.797637Z",
     "start_time": "2024-11-20T14:44:10.793136Z"
    }
   },
   "source": [
    "assert isinstance(shopping_centres, gpd.GeoDataFrame)\n",
    "for column in ('id', 'name', 'addr', 'geometry'):\n",
    "    assert column in shopping_centres.columns"
   ],
   "outputs": [],
   "execution_count": 210
  },
  {
   "cell_type": "markdown",
   "id": "693cd313",
   "metadata": {},
   "source": [
    "<b>Ćwiczenie 4.</b> Przeprowadź projekcję danych na EPSG:3879."
   ]
  },
  {
   "cell_type": "code",
   "id": "72352789",
   "metadata": {
    "ExecuteTime": {
     "end_time": "2024-11-20T14:44:10.807278Z",
     "start_time": "2024-11-20T14:44:10.799647Z"
    }
   },
   "source": [
    "### your code ###\n",
    "shopping_centres = shopping_centres.to_crs(epsg=3879)\n",
    "print(shopping_centres.head())"
   ],
   "outputs": [
    {
     "name": "stdout",
     "output_type": "stream",
     "text": [
      "   id       name                                            addr  \\\n",
      "0   0       Itis            Itäkatu 1-7, 00930 Helsinki, Finland   \n",
      "1   1      Forum  Mannerheimintie 14–20, 00100 Helsinki, Finland   \n",
      "2   2  Iso-omena           Piispansilta 11, 02230 Espoo, Finland   \n",
      "3   3      Sello       Leppävaarankatu 3-9, 02600 Espoo, Finland   \n",
      "4   4      Jumbo      Vantaanportinkatu 3, 01510 Vantaa, Finland   \n",
      "\n",
      "                           geometry  \\\n",
      "0  POINT (25504591.772 6677656.345)   \n",
      "1   POINT (25496564.56 6672818.862)   \n",
      "2  POINT (25485560.559 6671955.267)   \n",
      "3  POINT (25489464.595 6678450.571)   \n",
      "4  POINT (25498101.692 6686561.206)   \n",
      "\n",
      "                                             address  \n",
      "0  Fafa’s, 1-7, Itäkatu, Itäkeskus, Vartiokylä, I...  \n",
      "1  Certego, 14-20, Mannerheimintie, Keskusta, Klu...  \n",
      "2  Iso Omena, 11, Piispansilta, Matinkylän keskus...  \n",
      "3  3-9, Leppävaarankatu, Ruusutorppa, Etelä-Leppä...  \n",
      "4  Jumbo, 3, Vantaanportinkatu, Vantaanportti, Pa...  \n"
     ]
    }
   ],
   "execution_count": 211
  },
  {
   "cell_type": "markdown",
   "id": "ae162331",
   "metadata": {},
   "source": [
    "Zweryfikuj poprawność kodu."
   ]
  },
  {
   "cell_type": "code",
   "id": "64e81f77",
   "metadata": {
    "ExecuteTime": {
     "end_time": "2024-11-20T14:44:10.813698Z",
     "start_time": "2024-11-20T14:44:10.808287Z"
    }
   },
   "source": [
    "import pyproj\n",
    "\n",
    "assert shopping_centres.crs == pyproj.CRS('EPSG:3879')"
   ],
   "outputs": [],
   "execution_count": 212
  },
  {
   "cell_type": "markdown",
   "id": "4a2916c2",
   "metadata": {},
   "source": [
    "<b>Ćwiczenie 5.</b> Zapisz plik w formacie ShapeFile pod nazwą ``shopping_centres.shp``."
   ]
  },
  {
   "cell_type": "code",
   "id": "f01bcfaa",
   "metadata": {
    "ExecuteTime": {
     "end_time": "2024-11-20T14:44:10.829275Z",
     "start_time": "2024-11-20T14:44:10.814709Z"
    }
   },
   "source": [
    "### your code ###\n",
    "shopping_centres.to_file('shopping_centres.shp')"
   ],
   "outputs": [],
   "execution_count": 213
  },
  {
   "cell_type": "markdown",
   "id": "5279b6c6",
   "metadata": {},
   "source": [
    "<b>Ćwiczenie 6.</b> Oblicz bufor o promieniu 1.5 km od każdego centrum handlowego. Nadpisz wynik w kolumnie geometry."
   ]
  },
  {
   "cell_type": "code",
   "id": "9748cd75",
   "metadata": {
    "ExecuteTime": {
     "end_time": "2024-11-20T14:44:10.838572Z",
     "start_time": "2024-11-20T14:44:10.830933Z"
    }
   },
   "source": [
    "### your code ###\n",
    "shopping_centres['geometry'] = shopping_centres.geometry.buffer(1500)\n",
    "print(shopping_centres.head())"
   ],
   "outputs": [
    {
     "name": "stdout",
     "output_type": "stream",
     "text": [
      "   id       name                                            addr  \\\n",
      "0   0       Itis            Itäkatu 1-7, 00930 Helsinki, Finland   \n",
      "1   1      Forum  Mannerheimintie 14–20, 00100 Helsinki, Finland   \n",
      "2   2  Iso-omena           Piispansilta 11, 02230 Espoo, Finland   \n",
      "3   3      Sello       Leppävaarankatu 3-9, 02600 Espoo, Finland   \n",
      "4   4      Jumbo      Vantaanportinkatu 3, 01510 Vantaa, Finland   \n",
      "\n",
      "                                            geometry  \\\n",
      "0  POLYGON ((25506091.772 6677656.345, 25506084.5...   \n",
      "1  POLYGON ((25498064.56 6672818.862, 25498057.33...   \n",
      "2  POLYGON ((25487060.559 6671955.267, 25487053.3...   \n",
      "3  POLYGON ((25490964.595 6678450.571, 25490957.3...   \n",
      "4  POLYGON ((25499601.692 6686561.206, 25499594.4...   \n",
      "\n",
      "                                             address  \n",
      "0  Fafa’s, 1-7, Itäkatu, Itäkeskus, Vartiokylä, I...  \n",
      "1  Certego, 14-20, Mannerheimintie, Keskusta, Klu...  \n",
      "2  Iso Omena, 11, Piispansilta, Matinkylän keskus...  \n",
      "3  3-9, Leppävaarankatu, Ruusutorppa, Etelä-Leppä...  \n",
      "4  Jumbo, 3, Vantaanportinkatu, Vantaanportti, Pa...  \n"
     ]
    }
   ],
   "execution_count": 214
  },
  {
   "cell_type": "markdown",
   "id": "2c2fb659",
   "metadata": {},
   "source": [
    "Zweryfikuj poprawność kodu."
   ]
  },
  {
   "cell_type": "code",
   "id": "3a755459",
   "metadata": {
    "ExecuteTime": {
     "end_time": "2024-11-20T14:44:10.844472Z",
     "start_time": "2024-11-20T14:44:10.839578Z"
    }
   },
   "source": [
    "assert shopping_centres.geometry.geom_type.unique() == ['Polygon']"
   ],
   "outputs": [],
   "execution_count": 215
  },
  {
   "cell_type": "markdown",
   "id": "cfb5dce3",
   "metadata": {},
   "source": [
    "<b>Ćwiczenie 7.</b> Pobierz dane dotyczące populacji z wykorzystaniem zmiennej population_grid."
   ]
  },
  {
   "cell_type": "code",
   "id": "3669300b",
   "metadata": {
    "ExecuteTime": {
     "end_time": "2024-11-20T14:44:14.980290Z",
     "start_time": "2024-11-20T14:44:10.845484Z"
    }
   },
   "source": [
    "population_grid = gpd.read_file(\n",
    "    (\n",
    "        'https://kartta.hsy.fi/geoserver/wfs'\n",
    "        '?service=wfs'\n",
    "        '&version=2.0.0'\n",
    "        '&request=GetFeature'\n",
    "        '&typeName=asuminen_ja_maankaytto:Vaestotietoruudukko_2020'\n",
    "        '&srsName=EPSG:3879'\n",
    "    ),\n",
    ")\n",
    "population_grid = population_grid.set_crs(epsg=3879)"
   ],
   "outputs": [],
   "execution_count": 216
  },
  {
   "cell_type": "markdown",
   "id": "fdf35c75",
   "metadata": {},
   "source": [
    "Zweryfikuj poprawność kodu."
   ]
  },
  {
   "cell_type": "code",
   "id": "c63a9267",
   "metadata": {
    "ExecuteTime": {
     "end_time": "2024-11-20T14:44:14.986751Z",
     "start_time": "2024-11-20T14:44:14.982318Z"
    }
   },
   "source": [
    "assert isinstance(population_grid, gpd.GeoDataFrame)\n",
    "assert population_grid.crs == pyproj.CRS('EPSG:3879')"
   ],
   "outputs": [],
   "execution_count": 217
  },
  {
   "cell_type": "markdown",
   "id": "ef1b21b0",
   "metadata": {},
   "source": [
    "<b>Ćwiczenie 8.</b> Wykonaj odpowiednie złączenie przestrzenne pomiędzy obiektami shopping_centres i population_grid z wykorzystaniem zmiennej populations. Następnie usuń wszystkie kolumny poza name i asukkaita (population)."
   ]
  },
  {
   "cell_type": "code",
   "id": "d4616ec8",
   "metadata": {
    "ExecuteTime": {
     "end_time": "2024-11-20T14:44:15.008473Z",
     "start_time": "2024-11-20T14:44:14.988760Z"
    }
   },
   "source": [
    "### your code ###\n",
    "print(population_grid.head())\n",
    "populations = gpd.sjoin(population_grid,shopping_centres, how=\"inner\", predicate=\"within\")\n",
    "populations = populations[['name', 'asukkaita']]\n",
    "# print(populations.head())\n",
    "# print(population_grid.head())\n",
    "# print(shopping_centres.head())"
   ],
   "outputs": [
    {
     "name": "stdout",
     "output_type": "stream",
     "text": [
      "                       gml_id  index  asukkaita  asvaljyys  ika0_9  ika10_19  \\\n",
      "0  Vaestotietoruudukko_2020.1    703          5         51      99        99   \n",
      "1  Vaestotietoruudukko_2020.2    710          8         44      99        99   \n",
      "2  Vaestotietoruudukko_2020.3    711          5         90      99        99   \n",
      "3  Vaestotietoruudukko_2020.4    715         13         34      99        99   \n",
      "4  Vaestotietoruudukko_2020.5    848          5         53      99        99   \n",
      "\n",
      "   ika20_29  ika30_39  ika40_49  ika50_59  ika60_69  ika70_79  ika_yli80  \\\n",
      "0        99        99        99        99        99        99         99   \n",
      "1        99        99        99        99        99        99         99   \n",
      "2        99        99        99        99        99        99         99   \n",
      "3        99        99        99        99        99        99         99   \n",
      "4        99        99        99        99        99        99         99   \n",
      "\n",
      "                                            geometry  \n",
      "0  POLYGON ((25472499.995 6685998.998, 25472499.9...  \n",
      "1  POLYGON ((25472499.995 6684249.004, 25472499.9...  \n",
      "2  POLYGON ((25472499.995 6683999.005, 25472499.9...  \n",
      "3  POLYGON ((25472499.995 6682998.998, 25472499.9...  \n",
      "4  POLYGON ((25472749.993 6690249.003, 25472749.9...  \n"
     ]
    }
   ],
   "execution_count": 218
  },
  {
   "cell_type": "markdown",
   "id": "b0aa34f7",
   "metadata": {},
   "source": [
    "<b>Ćwiczenie 9.</b> Dla każdego centrum handlowego oblicz liczbę mieszkańców żyjących w promieniu 1.5 km od niego. Rezultat nadpisz w zmiennej populations."
   ]
  },
  {
   "cell_type": "code",
   "id": "580f0f71",
   "metadata": {
    "ExecuteTime": {
     "end_time": "2024-11-20T14:44:15.019007Z",
     "start_time": "2024-11-20T14:44:15.009508Z"
    }
   },
   "source": [
    "### your code ###\n",
    "populations = populations.groupby('name')['asukkaita'].sum().reset_index()\n",
    "populations"
   ],
   "outputs": [
    {
     "data": {
      "text/plain": [
       "        name  asukkaita\n",
       "0      Forum      57242\n",
       "1  Iso-omena      26268\n",
       "2       Itis      21058\n",
       "3      Jumbo      10956\n",
       "4       REDI      26605\n",
       "5      Sello      24177\n",
       "6     Tripla      23868"
      ],
      "text/html": [
       "<div>\n",
       "<style scoped>\n",
       "    .dataframe tbody tr th:only-of-type {\n",
       "        vertical-align: middle;\n",
       "    }\n",
       "\n",
       "    .dataframe tbody tr th {\n",
       "        vertical-align: top;\n",
       "    }\n",
       "\n",
       "    .dataframe thead th {\n",
       "        text-align: right;\n",
       "    }\n",
       "</style>\n",
       "<table border=\"1\" class=\"dataframe\">\n",
       "  <thead>\n",
       "    <tr style=\"text-align: right;\">\n",
       "      <th></th>\n",
       "      <th>name</th>\n",
       "      <th>asukkaita</th>\n",
       "    </tr>\n",
       "  </thead>\n",
       "  <tbody>\n",
       "    <tr>\n",
       "      <th>0</th>\n",
       "      <td>Forum</td>\n",
       "      <td>57242</td>\n",
       "    </tr>\n",
       "    <tr>\n",
       "      <th>1</th>\n",
       "      <td>Iso-omena</td>\n",
       "      <td>26268</td>\n",
       "    </tr>\n",
       "    <tr>\n",
       "      <th>2</th>\n",
       "      <td>Itis</td>\n",
       "      <td>21058</td>\n",
       "    </tr>\n",
       "    <tr>\n",
       "      <th>3</th>\n",
       "      <td>Jumbo</td>\n",
       "      <td>10956</td>\n",
       "    </tr>\n",
       "    <tr>\n",
       "      <th>4</th>\n",
       "      <td>REDI</td>\n",
       "      <td>26605</td>\n",
       "    </tr>\n",
       "    <tr>\n",
       "      <th>5</th>\n",
       "      <td>Sello</td>\n",
       "      <td>24177</td>\n",
       "    </tr>\n",
       "    <tr>\n",
       "      <th>6</th>\n",
       "      <td>Tripla</td>\n",
       "      <td>23868</td>\n",
       "    </tr>\n",
       "  </tbody>\n",
       "</table>\n",
       "</div>"
      ]
     },
     "execution_count": 219,
     "metadata": {},
     "output_type": "execute_result"
    }
   ],
   "execution_count": 219
  },
  {
   "metadata": {
    "ExecuteTime": {
     "end_time": "2024-11-20T14:44:15.023596Z",
     "start_time": "2024-11-20T14:44:15.020013Z"
    }
   },
   "cell_type": "code",
   "source": "",
   "id": "e55ab9c386a9fba8",
   "outputs": [],
   "execution_count": 219
  }
 ],
 "metadata": {
  "celltoolbar": "Edit Metadata",
  "kernelspec": {
   "display_name": "Python 3",
   "language": "python",
   "name": "python3"
  },
  "language_info": {
   "codemirror_mode": {
    "name": "ipython",
    "version": 3
   },
   "file_extension": ".py",
   "mimetype": "text/x-python",
   "name": "python",
   "nbconvert_exporter": "python",
   "pygments_lexer": "ipython3",
   "version": "3.5.4"
  }
 },
 "nbformat": 4,
 "nbformat_minor": 5
}
