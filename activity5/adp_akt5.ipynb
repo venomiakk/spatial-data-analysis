{
 "cells": [
  {
   "cell_type": "markdown",
   "id": "0a3f7ff3",
   "metadata": {},
   "source": [
    "<b>Aktywność 5</b><br>\n",
    "Niezbędne biblioteki: pandas, shapely"
   ]
  },
  {
   "cell_type": "markdown",
   "id": "06a9a790",
   "metadata": {},
   "source": [
    "<b>Ćwiczenie 1.</b> Utwórz funkcję o nazwie <i>create_point_geometry</i>, która na podstawie dwóch parametrów (x, y) utworzy i zwróci obiekt typu Point."
   ]
  },
  {
   "cell_type": "code",
   "id": "96b422ed",
   "metadata": {
    "ExecuteTime": {
     "end_time": "2024-11-14T13:08:45.819916Z",
     "start_time": "2024-11-14T13:08:45.815982Z"
    }
   },
   "source": [
    "from shapely.geometry import Point\n",
    "\n",
    "\n",
    "def create_point_geometry(x, y):\n",
    "    return Point(x, y)"
   ],
   "outputs": [],
   "execution_count": 24
  },
  {
   "cell_type": "markdown",
   "id": "522d9d5f",
   "metadata": {},
   "source": []
  },
  {
   "cell_type": "markdown",
   "id": "472236bf",
   "metadata": {},
   "source": [
    "Przetestuj działanie funkcji."
   ]
  },
  {
   "cell_type": "code",
   "id": "8e4178fa",
   "metadata": {
    "ExecuteTime": {
     "end_time": "2024-11-14T13:08:47.412546Z",
     "start_time": "2024-11-14T13:08:47.394167Z"
    }
   },
   "source": [
    "point = create_point_geometry(0, 1)\n",
    "print(point)"
   ],
   "outputs": [
    {
     "name": "stdout",
     "output_type": "stream",
     "text": [
      "POINT (0 1)\n"
     ]
    }
   ],
   "execution_count": 25
  },
  {
   "cell_type": "markdown",
   "id": "27338e00",
   "metadata": {},
   "source": [
    "<b>Ćwiczenie 2.</b> Utwórz funkcję o nazwie <i>create_line_geometry</i>, która na podstawie parametru (points) będącego listą obiektów typu Point utworzy i zwróci obiekt typu LineString. Powinna ona zweryfikować (assert), czy:\n",
    "- parametr jest rzeczywiście listą. Jeżeli nie, to wyświetlić komunikat: `Parametr musi być listą!`.\n",
    "- lista składa się z co najmniej dwóch elementów. Jeżeli nie, to wyświetlić komunikat: `Linia musi składać się z minimum dwóch punktów!`.\n",
    "- lista składa się jedynie z obiektów typu Point. Jeżeli nie, to wyświetlić komunikat: `Lista musi składać się z punktów!`."
   ]
  },
  {
   "cell_type": "code",
   "id": "718e0289",
   "metadata": {
    "ExecuteTime": {
     "end_time": "2024-11-14T13:08:48.477503Z",
     "start_time": "2024-11-14T13:08:48.470213Z"
    }
   },
   "source": [
    "from shapely.geometry import LineString\n",
    "\n",
    "\n",
    "\n",
    "def create_line_geometry(points):\n",
    "    assert type(points) is list, \"parametr musi byc lista\"\n",
    "    assert len(points) >= 2, \"linia musi skaldac sie z minimum dwoch punktow!\"\n",
    "    for i in points:\n",
    "        assert type(i) is Point, \"lista musi skaldac sie z punktow!\""
   ],
   "outputs": [],
   "execution_count": 26
  },
  {
   "cell_type": "markdown",
   "id": "aa1df124",
   "metadata": {},
   "source": [
    "Przetestuj działanie funkcji."
   ]
  },
  {
   "cell_type": "code",
   "id": "7fded123",
   "metadata": {
    "ExecuteTime": {
     "end_time": "2024-11-14T13:08:49.453602Z",
     "start_time": "2024-11-14T13:08:49.446132Z"
    }
   },
   "source": [
    "points = []\n",
    "points.append(create_point_geometry(0, 0))\n",
    "points.append(create_point_geometry(1, 1))\n",
    "\n",
    "line = create_line_geometry(points)\n",
    "print(line)"
   ],
   "outputs": [
    {
     "name": "stdout",
     "output_type": "stream",
     "text": [
      "None\n"
     ]
    }
   ],
   "execution_count": 27
  },
  {
   "cell_type": "markdown",
   "id": "809fb4b7",
   "metadata": {},
   "source": [
    "<b>Ćwiczenie 3.</b> Utwórz funkcję o nazwie <i>create_polygon_geometry</i>, która na podstawie parametru (coordinates) będącego listą krotek współrzędnych utworzy i zwróci obiekt typu Polygon. Powinna ona zweryfikować (assert), czy:\n",
    "- parametr jest rzeczywiście listą. Jeżeli nie, to wyświetlić komunikat: `Parametr musi być listą!`.\n",
    "- lista składa się z co najmniej trzech elementów. Jeżeli nie, to wyświetlić komunikat: `Wielokąt musi składać się z minimum trzech punktów!`.\n",
    "- lista składa się jedynie z dwuelementowych krotek. Jeżeli nie, to wyświetlić komunikat: `Lista musi składać się z dwuelementowych krotek!`.\n",
    "- krotki zawierają jedynie wartości typu int albo float. Jeżeli nie, to wyświetlić komunikat: `Krotki muszą zawierać współrzędne!`."
   ]
  },
  {
   "cell_type": "code",
   "id": "23f95673",
   "metadata": {
    "ExecuteTime": {
     "end_time": "2024-11-14T13:08:50.459405Z",
     "start_time": "2024-11-14T13:08:50.451535Z"
    }
   },
   "source": [
    "from shapely.geometry import Polygon\n",
    "\n",
    "\n",
    "def create_polygon_geometry(coordinates):\n",
    "    assert type(coordinates) is list, \"parametr musi byc lista\"\n",
    "    assert len(coordinates) >= 3, \"linia musi skaldac sie z minimum trzech punktow!\"\n",
    "    for i in coordinates:\n",
    "        assert len(i) == 2 , \"lista musi skaldac sie z punktow!\"\n",
    "        assert (type(i[0]) is int or type(i[0]) is float) and (type(i[1]) is int or type(i[1]) is float), \"Krotki musza zawierac wspolrzedne!\"\n",
    "    return Polygon(coordinates)"
   ],
   "outputs": [],
   "execution_count": 28
  },
  {
   "cell_type": "markdown",
   "id": "21969c29",
   "metadata": {},
   "source": [
    "Przetestuj działanie funkcji."
   ]
  },
  {
   "cell_type": "code",
   "id": "b64be4ea",
   "metadata": {
    "ExecuteTime": {
     "end_time": "2024-11-14T13:08:53.032645Z",
     "start_time": "2024-11-14T13:08:53.026860Z"
    }
   },
   "source": [
    "coordinates = []\n",
    "coordinates.append((0, 0))\n",
    "coordinates.append((1, 1))\n",
    "coordinates.append((2, 0))\n",
    "\n",
    "polygon = create_polygon_geometry(coordinates)\n",
    "print(polygon)"
   ],
   "outputs": [
    {
     "name": "stdout",
     "output_type": "stream",
     "text": [
      "POLYGON ((0 0, 1 1, 2 0, 0 0))\n"
     ]
    }
   ],
   "execution_count": 29
  },
  {
   "cell_type": "markdown",
   "id": "06fe7dd6",
   "metadata": {},
   "source": [
    "<b>Ćwiczenie 4.</b> Utwórz funkcję o nazwie <i>get_centroid</i>, która na podstawie parametru (geom) będącego obiektem typu  BaseGeometry zwróci centroid tego obiektu. Powinna ona zweryfikować (assert), czy:\n",
    "- parametr jest obiektem typu BaseGeometry albo pochodnym. Jeżeli nie, to wyświetlić komunikat: `Parametr musi być geometrią!`."
   ]
  },
  {
   "cell_type": "code",
   "id": "25df5396",
   "metadata": {
    "ExecuteTime": {
     "end_time": "2024-11-14T13:08:53.769792Z",
     "start_time": "2024-11-14T13:08:53.763344Z"
    }
   },
   "source": [
    "from shapely.geometry.base import BaseGeometry\n",
    "\n",
    "\n",
    "### your code ###\n",
    "def get_centroid(geom):\n",
    "    assert isinstance(geom, BaseGeometry), \"Parametr musi byc geometria!\"\n",
    "    return geom.centroid"
   ],
   "outputs": [],
   "execution_count": 30
  },
  {
   "cell_type": "markdown",
   "id": "2aaeed25",
   "metadata": {},
   "source": [
    "Przetestuj działanie funkcji."
   ]
  },
  {
   "cell_type": "code",
   "id": "2f4290da",
   "metadata": {
    "ExecuteTime": {
     "end_time": "2024-11-14T13:08:54.703652Z",
     "start_time": "2024-11-14T13:08:54.696553Z"
    }
   },
   "source": [
    "centroid = get_centroid(polygon)\n",
    "print(centroid)"
   ],
   "outputs": [
    {
     "name": "stdout",
     "output_type": "stream",
     "text": [
      "POINT (1 0.3333333333333333)\n"
     ]
    }
   ],
   "execution_count": 31
  },
  {
   "cell_type": "markdown",
   "id": "15f89760",
   "metadata": {},
   "source": [
    "<b>Ćwiczenie 5.</b> Utwórz funkcję o nazwie <i>get_area</i>, która na podstawie parametru (polygon) będącego obiektem typu Polygon zwróci powierzchnię tego obiektu. Powinna ona zweryfikować (assert), czy:\n",
    "- parametr jest obiektem typu Polygon. Jeżeli nie, to wyświetlić komunikat: `Parametr musi być wielokątem!`."
   ]
  },
  {
   "cell_type": "code",
   "id": "ce98627c",
   "metadata": {
    "ExecuteTime": {
     "end_time": "2024-11-14T13:08:55.584411Z",
     "start_time": "2024-11-14T13:08:55.577436Z"
    }
   },
   "source": [
    "### your code ###\n",
    "def get_area(polygon):\n",
    "    assert isinstance(polygon, Polygon), \"Parametr musi byc wielokatem!\"\n",
    "    return polygon.area"
   ],
   "outputs": [],
   "execution_count": 32
  },
  {
   "cell_type": "markdown",
   "id": "a6b69cfa",
   "metadata": {},
   "source": [
    "Przetestuj działanie funkcji."
   ]
  },
  {
   "cell_type": "code",
   "id": "9f1d3702",
   "metadata": {
    "ExecuteTime": {
     "end_time": "2024-11-14T13:08:56.452529Z",
     "start_time": "2024-11-14T13:08:56.445335Z"
    }
   },
   "source": [
    "area = get_area(polygon)\n",
    "print(area)"
   ],
   "outputs": [
    {
     "name": "stdout",
     "output_type": "stream",
     "text": [
      "1.0\n"
     ]
    }
   ],
   "execution_count": 33
  },
  {
   "cell_type": "markdown",
   "id": "04413cfd",
   "metadata": {},
   "source": [
    "<b>Ćwiczenie 6.</b> Utwórz funkcję o nazwie <i>get_length</i>, która na podstawie parametru (geometry) będącego obiektem typu LineString albo Polygon zwróci odpowiednio długość linii albo długość zewnętrznego obwodu wielokąta. Powinna ona zweryfikować (assert), czy:\n",
    "- parametr jest obiektem typu LineString albo Polygon. Jeżeli nie, to wyświetlić komunikat: `Parametr musi być linią albo wielokątem!`.\n"
   ]
  },
  {
   "cell_type": "code",
   "id": "027938d9",
   "metadata": {
    "ExecuteTime": {
     "end_time": "2024-11-14T13:08:57.344495Z",
     "start_time": "2024-11-14T13:08:57.339325Z"
    }
   },
   "source": [
    "### your code ###\n",
    "def get_length(geometry):\n",
    "    assert isinstance(geometry, LineString) or isinstance(geometry, Polygon), \"Parametr musi byc linia albo wielokatem!\"\n",
    "    return geometry.length"
   ],
   "outputs": [],
   "execution_count": 34
  },
  {
   "cell_type": "markdown",
   "id": "30990c8e",
   "metadata": {},
   "source": [
    "Przetestuj działanie funkcji."
   ]
  },
  {
   "cell_type": "code",
   "id": "b7f2e1d5",
   "metadata": {
    "ExecuteTime": {
     "end_time": "2024-11-14T13:08:58.098279Z",
     "start_time": "2024-11-14T13:08:58.082913Z"
    }
   },
   "source": [
    "length = get_length(polygon)\n",
    "print(length)"
   ],
   "outputs": [
    {
     "name": "stdout",
     "output_type": "stream",
     "text": [
      "4.82842712474619\n"
     ]
    }
   ],
   "execution_count": 35
  },
  {
   "cell_type": "markdown",
   "id": "67a9e78e",
   "metadata": {},
   "source": [
    "<b>Ćwiczenie 7.</b> Wczytaj dane z pliku `travel_times_2015_helsinki.txt` do zmiennej data."
   ]
  },
  {
   "cell_type": "code",
   "id": "26590ea2",
   "metadata": {
    "ExecuteTime": {
     "end_time": "2024-11-14T13:08:59.076095Z",
     "start_time": "2024-11-14T13:08:59.045262Z"
    }
   },
   "source": [
    "import pandas as pd\n",
    "\n",
    "### your code ###\n",
    "data = pd.read_csv('travel_times_2015_helsinki.txt', sep=';')"
   ],
   "outputs": [],
   "execution_count": 36
  },
  {
   "cell_type": "markdown",
   "id": "243825ae",
   "metadata": {},
   "source": [
    "Zweryfikuj poprawność kodu."
   ]
  },
  {
   "cell_type": "code",
   "id": "0b06480e",
   "metadata": {
    "ExecuteTime": {
     "end_time": "2024-11-14T13:09:00.101639Z",
     "start_time": "2024-11-14T13:09:00.095598Z"
    }
   },
   "source": [
    "print(data.shape)"
   ],
   "outputs": [
    {
     "name": "stdout",
     "output_type": "stream",
     "text": [
      "(14643, 13)\n"
     ]
    }
   ],
   "execution_count": 37
  },
  {
   "cell_type": "code",
   "id": "97c6e0ce",
   "metadata": {
    "ExecuteTime": {
     "end_time": "2024-11-14T13:09:00.607506Z",
     "start_time": "2024-11-14T13:09:00.584670Z"
    }
   },
   "source": [
    "data.head()"
   ],
   "outputs": [
    {
     "data": {
      "text/plain": [
       "   from_id    to_id      fromid_toid  route_number     at     from_x  \\\n",
       "0  5861326  5785640  5861326_5785640             1  08:10  24.970438   \n",
       "1  5861326  5785641  5861326_5785641             1  08:10  24.970438   \n",
       "2  5861326  5785642  5861326_5785642             1  08:10  24.970438   \n",
       "3  5861326  5785643  5861326_5785643             1  08:10  24.970438   \n",
       "4  5861326  5787544  5861326_5787544             1  08:10  24.970438   \n",
       "\n",
       "      from_y       to_x       to_y  total_route_time  route_time  \\\n",
       "0  60.311917  24.856034  60.399941             125.0        99.0   \n",
       "1  60.311917  24.860568  60.400014             123.0       102.0   \n",
       "2  60.311917  24.865102  60.400086             125.0       103.0   \n",
       "3  60.311917  24.869636  60.400159             129.0       107.0   \n",
       "4  60.311917  24.842582  60.397478             118.0        92.0   \n",
       "\n",
       "   route_distance  route_total_lines  \n",
       "0         22917.6                2.0  \n",
       "1         23123.5                2.0  \n",
       "2         23241.3                2.0  \n",
       "3         23534.2                2.0  \n",
       "4         22428.2                2.0  "
      ],
      "text/html": [
       "<div>\n",
       "<style scoped>\n",
       "    .dataframe tbody tr th:only-of-type {\n",
       "        vertical-align: middle;\n",
       "    }\n",
       "\n",
       "    .dataframe tbody tr th {\n",
       "        vertical-align: top;\n",
       "    }\n",
       "\n",
       "    .dataframe thead th {\n",
       "        text-align: right;\n",
       "    }\n",
       "</style>\n",
       "<table border=\"1\" class=\"dataframe\">\n",
       "  <thead>\n",
       "    <tr style=\"text-align: right;\">\n",
       "      <th></th>\n",
       "      <th>from_id</th>\n",
       "      <th>to_id</th>\n",
       "      <th>fromid_toid</th>\n",
       "      <th>route_number</th>\n",
       "      <th>at</th>\n",
       "      <th>from_x</th>\n",
       "      <th>from_y</th>\n",
       "      <th>to_x</th>\n",
       "      <th>to_y</th>\n",
       "      <th>total_route_time</th>\n",
       "      <th>route_time</th>\n",
       "      <th>route_distance</th>\n",
       "      <th>route_total_lines</th>\n",
       "    </tr>\n",
       "  </thead>\n",
       "  <tbody>\n",
       "    <tr>\n",
       "      <th>0</th>\n",
       "      <td>5861326</td>\n",
       "      <td>5785640</td>\n",
       "      <td>5861326_5785640</td>\n",
       "      <td>1</td>\n",
       "      <td>08:10</td>\n",
       "      <td>24.970438</td>\n",
       "      <td>60.311917</td>\n",
       "      <td>24.856034</td>\n",
       "      <td>60.399941</td>\n",
       "      <td>125.0</td>\n",
       "      <td>99.0</td>\n",
       "      <td>22917.6</td>\n",
       "      <td>2.0</td>\n",
       "    </tr>\n",
       "    <tr>\n",
       "      <th>1</th>\n",
       "      <td>5861326</td>\n",
       "      <td>5785641</td>\n",
       "      <td>5861326_5785641</td>\n",
       "      <td>1</td>\n",
       "      <td>08:10</td>\n",
       "      <td>24.970438</td>\n",
       "      <td>60.311917</td>\n",
       "      <td>24.860568</td>\n",
       "      <td>60.400014</td>\n",
       "      <td>123.0</td>\n",
       "      <td>102.0</td>\n",
       "      <td>23123.5</td>\n",
       "      <td>2.0</td>\n",
       "    </tr>\n",
       "    <tr>\n",
       "      <th>2</th>\n",
       "      <td>5861326</td>\n",
       "      <td>5785642</td>\n",
       "      <td>5861326_5785642</td>\n",
       "      <td>1</td>\n",
       "      <td>08:10</td>\n",
       "      <td>24.970438</td>\n",
       "      <td>60.311917</td>\n",
       "      <td>24.865102</td>\n",
       "      <td>60.400086</td>\n",
       "      <td>125.0</td>\n",
       "      <td>103.0</td>\n",
       "      <td>23241.3</td>\n",
       "      <td>2.0</td>\n",
       "    </tr>\n",
       "    <tr>\n",
       "      <th>3</th>\n",
       "      <td>5861326</td>\n",
       "      <td>5785643</td>\n",
       "      <td>5861326_5785643</td>\n",
       "      <td>1</td>\n",
       "      <td>08:10</td>\n",
       "      <td>24.970438</td>\n",
       "      <td>60.311917</td>\n",
       "      <td>24.869636</td>\n",
       "      <td>60.400159</td>\n",
       "      <td>129.0</td>\n",
       "      <td>107.0</td>\n",
       "      <td>23534.2</td>\n",
       "      <td>2.0</td>\n",
       "    </tr>\n",
       "    <tr>\n",
       "      <th>4</th>\n",
       "      <td>5861326</td>\n",
       "      <td>5787544</td>\n",
       "      <td>5861326_5787544</td>\n",
       "      <td>1</td>\n",
       "      <td>08:10</td>\n",
       "      <td>24.970438</td>\n",
       "      <td>60.311917</td>\n",
       "      <td>24.842582</td>\n",
       "      <td>60.397478</td>\n",
       "      <td>118.0</td>\n",
       "      <td>92.0</td>\n",
       "      <td>22428.2</td>\n",
       "      <td>2.0</td>\n",
       "    </tr>\n",
       "  </tbody>\n",
       "</table>\n",
       "</div>"
      ]
     },
     "execution_count": 38,
     "metadata": {},
     "output_type": "execute_result"
    }
   ],
   "execution_count": 38
  },
  {
   "cell_type": "markdown",
   "id": "9aef8983",
   "metadata": {},
   "source": [
    "<b>Ćwiczenie 8.</b> Ogranicz dane w zmiennej data do czterech kolumn zawierających współrzędne (from_x, from_y, to_x, to_y)."
   ]
  },
  {
   "cell_type": "code",
   "id": "fab6c23c",
   "metadata": {
    "ExecuteTime": {
     "end_time": "2024-11-14T13:09:02.007829Z",
     "start_time": "2024-11-14T13:09:01.995568Z"
    }
   },
   "source": [
    "### your code ###\n",
    "data = data[['from_x', 'from_y', 'to_x', 'to_y']]"
   ],
   "outputs": [],
   "execution_count": 39
  },
  {
   "cell_type": "markdown",
   "id": "bb400220",
   "metadata": {},
   "source": [
    "Zweryfikuj poprawność kodu."
   ]
  },
  {
   "cell_type": "code",
   "id": "6e2d5512",
   "metadata": {
    "ExecuteTime": {
     "end_time": "2024-11-14T13:09:03.041977Z",
     "start_time": "2024-11-14T13:09:03.031851Z"
    }
   },
   "source": [
    "assert list(data.columns) == [\"from_x\", \"from_y\", \"to_x\", \"to_y\"], \"Wybrano błędne kolumny!\""
   ],
   "outputs": [],
   "execution_count": 40
  },
  {
   "cell_type": "markdown",
   "id": "6dfffe36",
   "metadata": {},
   "source": [
    "<b>Ćwiczenie 9.</b> Utwórz dwie listy origin_points oraz destination_points, które będą zawierały obiekty typu Point utworzone na podstawie danych ze zmiennej data."
   ]
  },
  {
   "cell_type": "code",
   "id": "31d6ec3f",
   "metadata": {
    "ExecuteTime": {
     "end_time": "2024-11-14T13:09:04.133194Z",
     "start_time": "2024-11-14T13:09:03.889194Z"
    }
   },
   "source": [
    "### your code ###\n",
    "origin_points = [Point(xy) for xy in zip(data[\"from_x\"], data['from_y'])]\n",
    "destination_points= [Point(xy) for xy in zip(data[\"to_x\"], data['to_y'])]"
   ],
   "outputs": [],
   "execution_count": 41
  },
  {
   "cell_type": "markdown",
   "id": "5e7d5114",
   "metadata": {},
   "source": [
    "Zweryfikuj poprawność kodu."
   ]
  },
  {
   "cell_type": "code",
   "id": "ffd385cb",
   "metadata": {
    "ExecuteTime": {
     "end_time": "2024-11-14T13:09:04.799350Z",
     "start_time": "2024-11-14T13:09:04.784281Z"
    }
   },
   "source": [
    "assert len(origin_points) == len(data), \"Błędnie wczytano punkty startowe!\"\n",
    "assert len(destination_points) == len(data), \"Błędnie wczytano punkty docelowe!\""
   ],
   "outputs": [],
   "execution_count": 42
  },
  {
   "cell_type": "markdown",
   "id": "c82c0896",
   "metadata": {},
   "source": [
    "<b>Ćwiczenie 10.</b> Utwórz funkcję o nazwie <i>create_routes</i>, która na podstawie dwóch parametrów (origin_points, destination_points) będących listami obiektów typu Point zwróci listę obiektów typu LineString reprezentujących odcinki pokonane pomiędzy punktami startowymi a docelowymi."
   ]
  },
  {
   "cell_type": "code",
   "id": "a26e1bbf",
   "metadata": {
    "ExecuteTime": {
     "end_time": "2024-11-14T13:09:05.865639Z",
     "start_time": "2024-11-14T13:09:05.858847Z"
    }
   },
   "source": [
    "### your code ###\n",
    "def create_routes(origin_points, destination_points):\n",
    "    return [create_line_geometry([origin, dest]) for origin, dest in zip(origin_points, destination_points)]"
   ],
   "outputs": [],
   "execution_count": 43
  },
  {
   "cell_type": "markdown",
   "id": "3bcce048",
   "metadata": {},
   "source": [
    "Przetestuj działanie funkcji."
   ]
  },
  {
   "cell_type": "code",
   "id": "39138721",
   "metadata": {
    "ExecuteTime": {
     "end_time": "2024-11-14T13:09:06.794722Z",
     "start_time": "2024-11-14T13:09:06.779761Z"
    }
   },
   "source": [
    "lines = create_routes(origin_points, destination_points)\n",
    "assert len(lines) == len(data), \"Błędnie wczytano trasy!\""
   ],
   "outputs": [],
   "execution_count": 44
  },
  {
   "cell_type": "markdown",
   "id": "f49f6d5f",
   "metadata": {},
   "source": [
    "<b>Ćwiczenie 11.</b> Utwórz funkcję o nazwie <i>calculate_total_distance</i>, która na podstawie parametru (lines) będącego listą obiektów typu LineString zwróci sumę długości przebytych odcinków drogi."
   ]
  },
  {
   "cell_type": "code",
   "id": "8cbb3b43",
   "metadata": {
    "ExecuteTime": {
     "end_time": "2024-11-14T13:09:07.658831Z",
     "start_time": "2024-11-14T13:09:07.644444Z"
    }
   },
   "source": [
    "def calculate_total_distance(lines):\n",
    "    sum = 0\n",
    "    for i, value in enumerate(lines):\n",
    "        sum += get_length(value)\n",
    "    return sum"
   ],
   "outputs": [],
   "execution_count": 45
  },
  {
   "cell_type": "markdown",
   "id": "dc678ada",
   "metadata": {},
   "source": [
    "Przetestuj działanie funkcji."
   ]
  },
  {
   "cell_type": "code",
   "id": "1f36f99c",
   "metadata": {
    "ExecuteTime": {
     "end_time": "2024-11-14T13:09:09.034476Z",
     "start_time": "2024-11-14T13:09:08.995137Z"
    }
   },
   "source": [
    "distance = calculate_total_distance(lines)\n",
    "print(distance)\n",
    "assert round(distance, 2) == 3148.57, \"Błędnie obliczono łączny dystans!\""
   ],
   "outputs": [
    {
     "ename": "AssertionError",
     "evalue": "Parametr musi byc linia albo wielokatem!",
     "output_type": "error",
     "traceback": [
      "\u001B[1;31m---------------------------------------------------------------------------\u001B[0m",
      "\u001B[1;31mAssertionError\u001B[0m                            Traceback (most recent call last)",
      "Cell \u001B[1;32mIn[46], line 1\u001B[0m\n\u001B[1;32m----> 1\u001B[0m distance \u001B[38;5;241m=\u001B[39m \u001B[43mcalculate_total_distance\u001B[49m\u001B[43m(\u001B[49m\u001B[43mlines\u001B[49m\u001B[43m)\u001B[49m\n\u001B[0;32m      2\u001B[0m \u001B[38;5;28mprint\u001B[39m(distance)\n\u001B[0;32m      3\u001B[0m \u001B[38;5;28;01massert\u001B[39;00m \u001B[38;5;28mround\u001B[39m(distance, \u001B[38;5;241m2\u001B[39m) \u001B[38;5;241m==\u001B[39m \u001B[38;5;241m3148.57\u001B[39m, \u001B[38;5;124m\"\u001B[39m\u001B[38;5;124mBłędnie obliczono łączny dystans!\u001B[39m\u001B[38;5;124m\"\u001B[39m\n",
      "Cell \u001B[1;32mIn[45], line 4\u001B[0m, in \u001B[0;36mcalculate_total_distance\u001B[1;34m(lines)\u001B[0m\n\u001B[0;32m      2\u001B[0m \u001B[38;5;28msum\u001B[39m \u001B[38;5;241m=\u001B[39m \u001B[38;5;241m0\u001B[39m\n\u001B[0;32m      3\u001B[0m \u001B[38;5;28;01mfor\u001B[39;00m i, value \u001B[38;5;129;01min\u001B[39;00m \u001B[38;5;28menumerate\u001B[39m(lines):\n\u001B[1;32m----> 4\u001B[0m     \u001B[38;5;28msum\u001B[39m \u001B[38;5;241m+\u001B[39m\u001B[38;5;241m=\u001B[39m \u001B[43mget_length\u001B[49m\u001B[43m(\u001B[49m\u001B[43mvalue\u001B[49m\u001B[43m)\u001B[49m\n\u001B[0;32m      5\u001B[0m \u001B[38;5;28;01mreturn\u001B[39;00m \u001B[38;5;28msum\u001B[39m\n",
      "Cell \u001B[1;32mIn[34], line 3\u001B[0m, in \u001B[0;36mget_length\u001B[1;34m(geometry)\u001B[0m\n\u001B[0;32m      2\u001B[0m \u001B[38;5;28;01mdef\u001B[39;00m \u001B[38;5;21mget_length\u001B[39m(geometry):\n\u001B[1;32m----> 3\u001B[0m     \u001B[38;5;28;01massert\u001B[39;00m \u001B[38;5;28misinstance\u001B[39m(geometry, LineString) \u001B[38;5;129;01mor\u001B[39;00m \u001B[38;5;28misinstance\u001B[39m(geometry, Polygon), \u001B[38;5;124m\"\u001B[39m\u001B[38;5;124mParametr musi byc linia albo wielokatem!\u001B[39m\u001B[38;5;124m\"\u001B[39m\n\u001B[0;32m      4\u001B[0m     \u001B[38;5;28;01mreturn\u001B[39;00m geometry\u001B[38;5;241m.\u001B[39mlength\n",
      "\u001B[1;31mAssertionError\u001B[0m: Parametr musi byc linia albo wielokatem!"
     ]
    }
   ],
   "execution_count": 46
  },
  {
   "metadata": {
    "ExecuteTime": {
     "end_time": "2024-11-14T13:08:21.477268Z",
     "start_time": "2024-11-14T13:08:21.477268Z"
    }
   },
   "cell_type": "code",
   "source": "",
   "id": "1b4d39cb2caa2199",
   "outputs": [],
   "execution_count": null
  },
  {
   "metadata": {
    "ExecuteTime": {
     "end_time": "2024-11-14T13:08:21.477268Z",
     "start_time": "2024-11-14T13:08:21.477268Z"
    }
   },
   "cell_type": "code",
   "source": "",
   "id": "649163a73a86f182",
   "outputs": [],
   "execution_count": null
  }
 ],
 "metadata": {
  "celltoolbar": "Edit Metadata",
  "kernelspec": {
   "display_name": "Python 3",
   "language": "python",
   "name": "python3"
  },
  "language_info": {
   "codemirror_mode": {
    "name": "ipython",
    "version": 3
   },
   "file_extension": ".py",
   "mimetype": "text/x-python",
   "name": "python",
   "nbconvert_exporter": "python",
   "pygments_lexer": "ipython3",
   "version": "3.5.4"
  }
 },
 "nbformat": 4,
 "nbformat_minor": 5
}
