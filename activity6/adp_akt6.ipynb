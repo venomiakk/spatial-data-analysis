{
 "cells": [
  {
   "cell_type": "markdown",
   "id": "5501800e",
   "metadata": {},
   "source": [
    "<b>Aktywność 6</b><br>\n",
    "Niezbędne biblioteki: geopandas, pandas, pathlib, pyproj, shapely"
   ]
  },
  {
   "cell_type": "markdown",
   "id": "d04b8664",
   "metadata": {},
   "source": [
    "<b>Ćwiczenie 1.</b> Na podstawie wartości ze zmiennych longitudes i latitudes utwórz listę krotek zawierających współrzędne o nazwie coordinate_pairs."
   ]
  },
  {
   "cell_type": "code",
   "id": "29f8e69b",
   "metadata": {
    "ExecuteTime": {
     "end_time": "2024-11-13T13:13:44.176599Z",
     "start_time": "2024-11-13T13:13:44.164055Z"
    }
   },
   "source": [
    "longitudes = [29.99671173095703,  31.58196258544922,  27.738052368164062, 26.50013542175293,\n",
    "              26.652359008789062, 25.921663284301758, 22.90027618408203,  23.257217407226562,\n",
    "              23.335693359375,    22.87444305419922,  23.08465003967285,  22.565473556518555,\n",
    "              21.452774047851562, 21.66388702392578,  21.065969467163086, 21.67659568786621,\n",
    "              21.496871948242188, 22.339998245239258, 22.288192749023438, 24.539581298828125,\n",
    "              25.444232940673828, 25.303749084472656, 24.669166564941406, 24.689163208007812,\n",
    "              24.174999237060547, 23.68471908569336,  24.000761032104492, 23.57332992553711,\n",
    "              23.76513671875,     23.430830001831055, 23.6597900390625,   20.580928802490234,\n",
    "              21.320831298828125, 22.398330688476562, 23.97638702392578,  24.934917449951172,\n",
    "              25.7611083984375,   25.95930290222168,  26.476804733276367, 27.91069221496582,\n",
    "              29.1027774810791,   29.29846954345703,  28.4355525970459,   28.817358016967773,\n",
    "              28.459857940673828, 30.028610229492188, 29.075136184692383, 30.13492774963379,\n",
    "              29.818885803222656, 29.640830993652344, 30.57735824584961,  29.99671173095703]\n",
    "latitudes  = [63.748023986816406, 62.90789794921875,  60.511383056640625, 60.44499588012695,\n",
    "              60.646385192871094, 60.243743896484375, 59.806800842285156, 59.91944122314453,\n",
    "              60.02395248413086,  60.14555358886719,  60.3452033996582,   60.211936950683594,\n",
    "              60.56249237060547,  61.54027557373047,  62.59798049926758,  63.02013397216797,\n",
    "              63.20353698730469,  63.27652359008789,  63.525691986083984, 64.79915618896484,\n",
    "              64.9533920288086,   65.51513671875,     65.65470886230469,  65.89610290527344,\n",
    "              65.79151916503906,  66.26332092285156,  66.80228424072266,  67.1570053100586,\n",
    "              67.4168701171875,   67.47978210449219,  67.94589233398438,  69.060302734375,\n",
    "              69.32611083984375,  68.71110534667969,  68.83248901367188,  68.580810546875,\n",
    "              68.98916625976562,  69.68568420410156,  69.9363784790039,   70.08860778808594,\n",
    "              69.70597076416016,  69.48533630371094,  68.90263366699219,  68.84700012207031,\n",
    "              68.53485107421875,  67.69471740722656,  66.90360260009766,  65.70887756347656,\n",
    "              65.6533203125,      64.92096710205078,  64.22373962402344,  63.748023986816406]"
   ],
   "outputs": [],
   "execution_count": 1
  },
  {
   "cell_type": "code",
   "id": "b6739dd5",
   "metadata": {
    "ExecuteTime": {
     "end_time": "2024-11-13T13:13:49.920015Z",
     "start_time": "2024-11-13T13:13:49.913251Z"
    }
   },
   "source": [
    "### your code ###\n",
    "coordinate_pairs = list(zip(longitudes, latitudes))"
   ],
   "outputs": [],
   "execution_count": 2
  },
  {
   "cell_type": "markdown",
   "id": "3540b072",
   "metadata": {},
   "source": [
    "Zweryfikuj poprawność kodu."
   ]
  },
  {
   "cell_type": "code",
   "id": "a23a1ccc",
   "metadata": {
    "ExecuteTime": {
     "end_time": "2024-11-13T13:13:53.901837Z",
     "start_time": "2024-11-13T13:13:53.894757Z"
    }
   },
   "source": [
    "print(coordinate_pairs[0])"
   ],
   "outputs": [
    {
     "name": "stdout",
     "output_type": "stream",
     "text": [
      "(29.99671173095703, 63.748023986816406)\n"
     ]
    }
   ],
   "execution_count": 3
  },
  {
   "cell_type": "markdown",
   "id": "507098e8",
   "metadata": {},
   "source": [
    "<b>Ćwiczenie 2.</b> Utwórz obiekt typu Polygon o nazwie polygon wykorzystując zmienną coordinate_pairs."
   ]
  },
  {
   "cell_type": "code",
   "id": "73f42436",
   "metadata": {
    "ExecuteTime": {
     "end_time": "2024-11-13T13:16:36.277123Z",
     "start_time": "2024-11-13T13:16:36.273429Z"
    }
   },
   "source": [
    "from shapely.geometry import Polygon\n",
    "polygon = Polygon(coordinate_pairs)\n",
    "### your code ###"
   ],
   "outputs": [],
   "execution_count": 5
  },
  {
   "cell_type": "markdown",
   "id": "4595d70f",
   "metadata": {},
   "source": [
    "Zweryfikuj poprawność kodu."
   ]
  },
  {
   "cell_type": "code",
   "id": "ae36cc15",
   "metadata": {
    "ExecuteTime": {
     "end_time": "2024-11-13T13:16:41.380777Z",
     "start_time": "2024-11-13T13:16:41.372606Z"
    }
   },
   "source": [
    "print(polygon.geom_type)"
   ],
   "outputs": [
    {
     "name": "stdout",
     "output_type": "stream",
     "text": [
      "Polygon\n"
     ]
    }
   ],
   "execution_count": 6
  },
  {
   "cell_type": "markdown",
   "id": "693cd313",
   "metadata": {},
   "source": [
    "<b>Ćwiczenie 3.</b> Utwórz obiekt typu GeoDataFrame o nazwie geo i układzie współrzędnych EPSG:4326 zawierający kolumnę o nazwie geometry. Wczytaj tam wielokąt o nazwie polygon."
   ]
  },
  {
   "cell_type": "code",
   "id": "72352789",
   "metadata": {
    "ExecuteTime": {
     "end_time": "2024-11-13T13:17:06.396154Z",
     "start_time": "2024-11-13T13:17:04.551109Z"
    }
   },
   "source": [
    "import geopandas as gpd\n",
    "geo = gpd.GeoDataFrame({'geometry': [polygon]}, crs=\"EPSG:4326\")\n",
    "### your code ###"
   ],
   "outputs": [],
   "execution_count": 7
  },
  {
   "cell_type": "markdown",
   "id": "ae162331",
   "metadata": {},
   "source": [
    "Zweryfikuj poprawność kodu."
   ]
  },
  {
   "cell_type": "code",
   "id": "64e81f77",
   "metadata": {
    "ExecuteTime": {
     "end_time": "2024-11-13T13:17:11.477037Z",
     "start_time": "2024-11-13T13:17:11.428674Z"
    }
   },
   "source": [
    "geo.head()"
   ],
   "outputs": [
    {
     "data": {
      "text/plain": [
       "                                            geometry\n",
       "0  POLYGON ((29.99671 63.74802, 31.58196 62.9079,..."
      ],
      "text/html": [
       "<div>\n",
       "<style scoped>\n",
       "    .dataframe tbody tr th:only-of-type {\n",
       "        vertical-align: middle;\n",
       "    }\n",
       "\n",
       "    .dataframe tbody tr th {\n",
       "        vertical-align: top;\n",
       "    }\n",
       "\n",
       "    .dataframe thead th {\n",
       "        text-align: right;\n",
       "    }\n",
       "</style>\n",
       "<table border=\"1\" class=\"dataframe\">\n",
       "  <thead>\n",
       "    <tr style=\"text-align: right;\">\n",
       "      <th></th>\n",
       "      <th>geometry</th>\n",
       "    </tr>\n",
       "  </thead>\n",
       "  <tbody>\n",
       "    <tr>\n",
       "      <th>0</th>\n",
       "      <td>POLYGON ((29.99671 63.74802, 31.58196 62.9079,...</td>\n",
       "    </tr>\n",
       "  </tbody>\n",
       "</table>\n",
       "</div>"
      ]
     },
     "execution_count": 8,
     "metadata": {},
     "output_type": "execute_result"
    }
   ],
   "execution_count": 8
  },
  {
   "cell_type": "markdown",
   "id": "4a2916c2",
   "metadata": {},
   "source": [
    "<b>Ćwiczenie 4.</b> Zwizualizuj wielokąt."
   ]
  },
  {
   "cell_type": "code",
   "id": "f01bcfaa",
   "metadata": {
    "ExecuteTime": {
     "end_time": "2024-11-13T13:26:35.336186Z",
     "start_time": "2024-11-13T13:26:31.696215Z"
    }
   },
   "source": [
    "### your code ###\n",
    "geo.plot()"
   ],
   "outputs": [
    {
     "data": {
      "text/plain": [
       "<Axes: >"
      ]
     },
     "execution_count": 17,
     "metadata": {},
     "output_type": "execute_result"
    },
    {
     "data": {
      "text/plain": [
       "<Figure size 640x480 with 1 Axes>"
      ],
      "image/png": "[encoded data removed]"
     },
     "metadata": {},
     "output_type": "display_data"
    }
   ],
   "execution_count": 17
  },
  {
   "cell_type": "markdown",
   "id": "ff246bd3",
   "metadata": {},
   "source": [
    "<b>Ćwiczenie 5.</b> Zapisz plik w formacie GeoPackage pod nazwą ``mysterious-polygon.gpkg``."
   ]
  },
  {
   "cell_type": "code",
   "id": "9fdbfb4a",
   "metadata": {
    "ExecuteTime": {
     "end_time": "2024-11-13T13:28:17.028930Z",
     "start_time": "2024-11-13T13:28:16.601468Z"
    }
   },
   "source": [
    "### your code ###\n",
    "geo.to_file(\"mysterious-polygon.gpkg\", driver=\"GPKG\")"
   ],
   "outputs": [],
   "execution_count": 18
  },
  {
   "cell_type": "code",
   "id": "c1554069",
   "metadata": {
    "ExecuteTime": {
     "end_time": "2024-11-13T13:29:16.038296Z",
     "start_time": "2024-11-13T13:29:16.031687Z"
    }
   },
   "source": [
    "import pathlib\n",
    "\n",
    "assert (pathlib.Path().resolve() / \"mysterious-polygon.gpkg\").exists(), \"Plik nie został zapisany!\""
   ],
   "outputs": [],
   "execution_count": 19
  },
  {
   "cell_type": "markdown",
   "id": "5279b6c6",
   "metadata": {},
   "source": [
    "<b>Ćwiczenie 6.</b> Wczytaj dane z pliku ``some_posts.csv`` do obiektu typu DataFrame o nazwie data."
   ]
  },
  {
   "cell_type": "code",
   "id": "9748cd75",
   "metadata": {
    "ExecuteTime": {
     "end_time": "2024-11-13T13:30:04.150797Z",
     "start_time": "2024-11-13T13:30:04.059392Z"
    }
   },
   "source": [
    "import pandas as pd\n",
    "\n",
    "### your code ###\n",
    "data = pd.read_csv('some_posts.csv')"
   ],
   "outputs": [],
   "execution_count": 20
  },
  {
   "cell_type": "markdown",
   "id": "2c2fb659",
   "metadata": {},
   "source": [
    "Zweryfikuj poprawność kodu."
   ]
  },
  {
   "cell_type": "code",
   "id": "1851d21d",
   "metadata": {
    "ExecuteTime": {
     "end_time": "2024-11-13T13:32:32.882923Z",
     "start_time": "2024-11-13T13:32:32.866759Z"
    }
   },
   "source": [
    "print(f\"Number of rows: {len(data)}\")\n",
    "print(data)"
   ],
   "outputs": [
    {
     "name": "stdout",
     "output_type": "stream",
     "text": [
      "Number of rows: 81379\n",
      "             lat        lon         timestamp    userid\n",
      "0     -24.980792  31.484633  2015-07-07 03:02  66487960\n",
      "1     -25.499225  31.508906  2015-07-07 03:18  65281761\n",
      "2     -24.342578  30.930866  2015-03-07 03:38  90916112\n",
      "3     -24.854614  31.519718  2015-10-07 05:04  37959089\n",
      "4     -24.921069  31.520836  2015-10-07 05:19  27793716\n",
      "...          ...        ...               ...       ...\n",
      "81374 -24.799541  31.354469  2015-09-05 02:23  90744213\n",
      "81375 -25.467992  30.956033  2015-02-05 02:40  71109799\n",
      "81376 -25.332223  30.997409  2015-08-05 02:40  54796261\n",
      "81377 -25.508851  31.005536  2015-08-05 02:43  78762204\n",
      "81378 -25.498840  31.007430  2015-04-05 02:44  32190273\n",
      "\n",
      "[81379 rows x 4 columns]\n"
     ]
    }
   ],
   "execution_count": 24
  },
  {
   "cell_type": "markdown",
   "id": "a93739f0",
   "metadata": {},
   "source": [
    "<b>Ćwiczenie 7.</b> Do zmiennej data dodaj kolumnę o nazwie geometry. Wstaw do niej obiekty typu Point na podstawie kolumn lon i lat."
   ]
  },
  {
   "cell_type": "code",
   "id": "a919a15d",
   "metadata": {
    "ExecuteTime": {
     "end_time": "2024-11-13T13:33:13.086384Z",
     "start_time": "2024-11-13T13:33:12.009601Z"
    }
   },
   "source": [
    "from shapely.geometry import Point\n",
    "\n",
    "### your code ###\n",
    "data['geometry'] = data.apply(lambda row: Point(row['lon'], row['lat']), axis=1)"
   ],
   "outputs": [],
   "execution_count": 25
  },
  {
   "cell_type": "markdown",
   "id": "d30f8547",
   "metadata": {},
   "source": [
    "Zweryfikuj poprawność kodu."
   ]
  },
  {
   "cell_type": "code",
   "id": "da9c3c94",
   "metadata": {
    "ExecuteTime": {
     "end_time": "2024-11-13T13:33:19.593665Z",
     "start_time": "2024-11-13T13:33:19.586544Z"
    }
   },
   "source": [
    "data['geometry'].head()"
   ],
   "outputs": [
    {
     "data": {
      "text/plain": [
       "0    POINT (31.484633302 -24.980792492)\n",
       "1    POINT (31.508905612 -25.499224667)\n",
       "2    POINT (30.930866066 -24.342578456)\n",
       "3     POINT (31.519718439 -24.85461393)\n",
       "4    POINT (31.520835558 -24.921068894)\n",
       "Name: geometry, dtype: object"
      ]
     },
     "execution_count": 26,
     "metadata": {},
     "output_type": "execute_result"
    }
   ],
   "execution_count": 26
  },
  {
   "cell_type": "markdown",
   "id": "da5e26cc",
   "metadata": {},
   "source": [
    "<b>Ćwiczenie 8.</b> Przekonwertuj obiekt typu DataFrame na obiekt typu GeoDataFrame. Ustaw przestrzenny układ odniesienia na EPSG:4326."
   ]
  },
  {
   "cell_type": "code",
   "id": "cda23ef6",
   "metadata": {
    "ExecuteTime": {
     "end_time": "2024-11-13T13:36:41.087673Z",
     "start_time": "2024-11-13T13:36:41.071302Z"
    }
   },
   "source": [
    "### your code ###\n",
    "data = gpd.GeoDataFrame(data, geometry='geometry', crs=\"EPSG:4326\")"
   ],
   "outputs": [],
   "execution_count": 28
  },
  {
   "cell_type": "markdown",
   "id": "333372a5",
   "metadata": {},
   "source": [
    "Zweryfikuj poprawność kodu."
   ]
  },
  {
   "cell_type": "code",
   "id": "035dc09b",
   "metadata": {
    "ExecuteTime": {
     "end_time": "2024-11-13T13:36:47.245996Z",
     "start_time": "2024-11-13T13:36:47.234041Z"
    }
   },
   "source": [
    "data"
   ],
   "outputs": [
    {
     "data": {
      "text/plain": [
       "             lat        lon         timestamp    userid  \\\n",
       "0     -24.980792  31.484633  2015-07-07 03:02  66487960   \n",
       "1     -25.499225  31.508906  2015-07-07 03:18  65281761   \n",
       "2     -24.342578  30.930866  2015-03-07 03:38  90916112   \n",
       "3     -24.854614  31.519718  2015-10-07 05:04  37959089   \n",
       "4     -24.921069  31.520836  2015-10-07 05:19  27793716   \n",
       "...          ...        ...               ...       ...   \n",
       "81374 -24.799541  31.354469  2015-09-05 02:23  90744213   \n",
       "81375 -25.467992  30.956033  2015-02-05 02:40  71109799   \n",
       "81376 -25.332223  30.997409  2015-08-05 02:40  54796261   \n",
       "81377 -25.508851  31.005536  2015-08-05 02:43  78762204   \n",
       "81378 -25.498840  31.007430  2015-04-05 02:44  32190273   \n",
       "\n",
       "                         geometry  \n",
       "0      POINT (31.48463 -24.98079)  \n",
       "1      POINT (31.50891 -25.49922)  \n",
       "2      POINT (30.93087 -24.34258)  \n",
       "3      POINT (31.51972 -24.85461)  \n",
       "4      POINT (31.52084 -24.92107)  \n",
       "...                           ...  \n",
       "81374  POINT (31.35447 -24.79954)  \n",
       "81375  POINT (30.95603 -25.46799)  \n",
       "81376  POINT (30.99741 -25.33222)  \n",
       "81377  POINT (31.00554 -25.50885)  \n",
       "81378  POINT (31.00743 -25.49884)  \n",
       "\n",
       "[81379 rows x 5 columns]"
      ],
      "text/html": [
       "<div>\n",
       "<style scoped>\n",
       "    .dataframe tbody tr th:only-of-type {\n",
       "        vertical-align: middle;\n",
       "    }\n",
       "\n",
       "    .dataframe tbody tr th {\n",
       "        vertical-align: top;\n",
       "    }\n",
       "\n",
       "    .dataframe thead th {\n",
       "        text-align: right;\n",
       "    }\n",
       "</style>\n",
       "<table border=\"1\" class=\"dataframe\">\n",
       "  <thead>\n",
       "    <tr style=\"text-align: right;\">\n",
       "      <th></th>\n",
       "      <th>lat</th>\n",
       "      <th>lon</th>\n",
       "      <th>timestamp</th>\n",
       "      <th>userid</th>\n",
       "      <th>geometry</th>\n",
       "    </tr>\n",
       "  </thead>\n",
       "  <tbody>\n",
       "    <tr>\n",
       "      <th>0</th>\n",
       "      <td>-24.980792</td>\n",
       "      <td>31.484633</td>\n",
       "      <td>2015-07-07 03:02</td>\n",
       "      <td>66487960</td>\n",
       "      <td>POINT (31.48463 -24.98079)</td>\n",
       "    </tr>\n",
       "    <tr>\n",
       "      <th>1</th>\n",
       "      <td>-25.499225</td>\n",
       "      <td>31.508906</td>\n",
       "      <td>2015-07-07 03:18</td>\n",
       "      <td>65281761</td>\n",
       "      <td>POINT (31.50891 -25.49922)</td>\n",
       "    </tr>\n",
       "    <tr>\n",
       "      <th>2</th>\n",
       "      <td>-24.342578</td>\n",
       "      <td>30.930866</td>\n",
       "      <td>2015-03-07 03:38</td>\n",
       "      <td>90916112</td>\n",
       "      <td>POINT (30.93087 -24.34258)</td>\n",
       "    </tr>\n",
       "    <tr>\n",
       "      <th>3</th>\n",
       "      <td>-24.854614</td>\n",
       "      <td>31.519718</td>\n",
       "      <td>2015-10-07 05:04</td>\n",
       "      <td>37959089</td>\n",
       "      <td>POINT (31.51972 -24.85461)</td>\n",
       "    </tr>\n",
       "    <tr>\n",
       "      <th>4</th>\n",
       "      <td>-24.921069</td>\n",
       "      <td>31.520836</td>\n",
       "      <td>2015-10-07 05:19</td>\n",
       "      <td>27793716</td>\n",
       "      <td>POINT (31.52084 -24.92107)</td>\n",
       "    </tr>\n",
       "    <tr>\n",
       "      <th>...</th>\n",
       "      <td>...</td>\n",
       "      <td>...</td>\n",
       "      <td>...</td>\n",
       "      <td>...</td>\n",
       "      <td>...</td>\n",
       "    </tr>\n",
       "    <tr>\n",
       "      <th>81374</th>\n",
       "      <td>-24.799541</td>\n",
       "      <td>31.354469</td>\n",
       "      <td>2015-09-05 02:23</td>\n",
       "      <td>90744213</td>\n",
       "      <td>POINT (31.35447 -24.79954)</td>\n",
       "    </tr>\n",
       "    <tr>\n",
       "      <th>81375</th>\n",
       "      <td>-25.467992</td>\n",
       "      <td>30.956033</td>\n",
       "      <td>2015-02-05 02:40</td>\n",
       "      <td>71109799</td>\n",
       "      <td>POINT (30.95603 -25.46799)</td>\n",
       "    </tr>\n",
       "    <tr>\n",
       "      <th>81376</th>\n",
       "      <td>-25.332223</td>\n",
       "      <td>30.997409</td>\n",
       "      <td>2015-08-05 02:40</td>\n",
       "      <td>54796261</td>\n",
       "      <td>POINT (30.99741 -25.33222)</td>\n",
       "    </tr>\n",
       "    <tr>\n",
       "      <th>81377</th>\n",
       "      <td>-25.508851</td>\n",
       "      <td>31.005536</td>\n",
       "      <td>2015-08-05 02:43</td>\n",
       "      <td>78762204</td>\n",
       "      <td>POINT (31.00554 -25.50885)</td>\n",
       "    </tr>\n",
       "    <tr>\n",
       "      <th>81378</th>\n",
       "      <td>-25.498840</td>\n",
       "      <td>31.007430</td>\n",
       "      <td>2015-04-05 02:44</td>\n",
       "      <td>32190273</td>\n",
       "      <td>POINT (31.00743 -25.49884)</td>\n",
       "    </tr>\n",
       "  </tbody>\n",
       "</table>\n",
       "<p>81379 rows × 5 columns</p>\n",
       "</div>"
      ]
     },
     "execution_count": 29,
     "metadata": {},
     "output_type": "execute_result"
    }
   ],
   "execution_count": 29
  },
  {
   "cell_type": "code",
   "id": "6827a77b",
   "metadata": {
    "ExecuteTime": {
     "end_time": "2024-11-13T13:36:54.314255Z",
     "start_time": "2024-11-13T13:36:54.304599Z"
    }
   },
   "source": [
    "print(data.crs)"
   ],
   "outputs": [
    {
     "name": "stdout",
     "output_type": "stream",
     "text": [
      "EPSG:4326\n"
     ]
    }
   ],
   "execution_count": 30
  },
  {
   "cell_type": "markdown",
   "id": "39c94883",
   "metadata": {},
   "source": [
    "<b>Ćwiczenie 9.</b> Zapisz plik w formacie Shapefile pod nazwą ``kruger_points.shp``."
   ]
  },
  {
   "cell_type": "code",
   "id": "50925369",
   "metadata": {
    "ExecuteTime": {
     "end_time": "2024-11-13T13:39:51.507830Z",
     "start_time": "2024-11-13T13:39:50.377116Z"
    }
   },
   "source": [
    "### your code ###\n",
    "data.to_file(\"kruger_points-polygon.shp\", driver=\"ESRI Shapefile\")"
   ],
   "outputs": [],
   "execution_count": 31
  },
  {
   "cell_type": "markdown",
   "id": "be6b6674",
   "metadata": {},
   "source": [
    "Zweryfikuj poprawność kodu."
   ]
  },
  {
   "cell_type": "code",
   "id": "adecbf36",
   "metadata": {
    "ExecuteTime": {
     "end_time": "2024-11-13T13:40:31.760207Z",
     "start_time": "2024-11-13T13:40:31.748450Z"
    }
   },
   "source": [
    "import pathlib\n",
    "\n",
    "assert (pathlib.Path().resolve() / \"kruger_points-polygon.shp\").exists(), \"Plik nie został zapisany!\""
   ],
   "outputs": [],
   "execution_count": 32
  },
  {
   "cell_type": "markdown",
   "id": "26cb6cf2",
   "metadata": {},
   "source": [
    "<b>Ćwiczenie 10.</b> Zwizualizuj punkty."
   ]
  },
  {
   "cell_type": "code",
   "id": "390228d5",
   "metadata": {
    "ExecuteTime": {
     "end_time": "2024-11-13T13:41:08.597635Z",
     "start_time": "2024-11-13T13:41:06.212203Z"
    }
   },
   "source": [
    "### your code ###\n",
    "data.plot()"
   ],
   "outputs": [
    {
     "data": {
      "text/plain": [
       "<Axes: >"
      ]
     },
     "execution_count": 34,
     "metadata": {},
     "output_type": "execute_result"
    },
    {
     "data": {
      "text/plain": [
       "<Figure size 640x480 with 1 Axes>"
      ],
      "image/png": "[encoded data removed]"
     },
     "metadata": {},
     "output_type": "display_data"
    }
   ],
   "execution_count": 34
  },
  {
   "cell_type": "markdown",
   "id": "336aa5be",
   "metadata": {},
   "source": [
    "<b>Ćwiczenie 11.</b> Wczytaj dane z pliku ``kruger_points.shp`` do obiektu typu GeoDataFrame o nazwie kruger_points."
   ]
  },
  {
   "cell_type": "code",
   "id": "eb09acbe",
   "metadata": {
    "ExecuteTime": {
     "end_time": "2024-11-13T13:43:08.146931Z",
     "start_time": "2024-11-13T13:43:07.403287Z"
    }
   },
   "source": [
    "### your code ###\n",
    "kruger_points = gpd.read_file('kruger_points-polygon.shp')"
   ],
   "outputs": [],
   "execution_count": 35
  },
  {
   "cell_type": "markdown",
   "id": "3fe3e619",
   "metadata": {},
   "source": [
    "Zweryfikuj poprawność kodu."
   ]
  },
  {
   "cell_type": "code",
   "id": "6dd9a9fb",
   "metadata": {
    "ExecuteTime": {
     "end_time": "2024-11-13T13:43:12.579762Z",
     "start_time": "2024-11-13T13:43:12.562958Z"
    }
   },
   "source": [
    "kruger_points.head()"
   ],
   "outputs": [
    {
     "data": {
      "text/plain": [
       "         lat        lon         timestamp    userid  \\\n",
       "0 -24.980792  31.484633  2015-07-07 03:02  66487960   \n",
       "1 -25.499225  31.508906  2015-07-07 03:18  65281761   \n",
       "2 -24.342578  30.930866  2015-03-07 03:38  90916112   \n",
       "3 -24.854614  31.519718  2015-10-07 05:04  37959089   \n",
       "4 -24.921069  31.520836  2015-10-07 05:19  27793716   \n",
       "\n",
       "                     geometry  \n",
       "0  POINT (31.48463 -24.98079)  \n",
       "1  POINT (31.50891 -25.49922)  \n",
       "2  POINT (30.93087 -24.34258)  \n",
       "3  POINT (31.51972 -24.85461)  \n",
       "4  POINT (31.52084 -24.92107)  "
      ],
      "text/html": [
       "<div>\n",
       "<style scoped>\n",
       "    .dataframe tbody tr th:only-of-type {\n",
       "        vertical-align: middle;\n",
       "    }\n",
       "\n",
       "    .dataframe tbody tr th {\n",
       "        vertical-align: top;\n",
       "    }\n",
       "\n",
       "    .dataframe thead th {\n",
       "        text-align: right;\n",
       "    }\n",
       "</style>\n",
       "<table border=\"1\" class=\"dataframe\">\n",
       "  <thead>\n",
       "    <tr style=\"text-align: right;\">\n",
       "      <th></th>\n",
       "      <th>lat</th>\n",
       "      <th>lon</th>\n",
       "      <th>timestamp</th>\n",
       "      <th>userid</th>\n",
       "      <th>geometry</th>\n",
       "    </tr>\n",
       "  </thead>\n",
       "  <tbody>\n",
       "    <tr>\n",
       "      <th>0</th>\n",
       "      <td>-24.980792</td>\n",
       "      <td>31.484633</td>\n",
       "      <td>2015-07-07 03:02</td>\n",
       "      <td>66487960</td>\n",
       "      <td>POINT (31.48463 -24.98079)</td>\n",
       "    </tr>\n",
       "    <tr>\n",
       "      <th>1</th>\n",
       "      <td>-25.499225</td>\n",
       "      <td>31.508906</td>\n",
       "      <td>2015-07-07 03:18</td>\n",
       "      <td>65281761</td>\n",
       "      <td>POINT (31.50891 -25.49922)</td>\n",
       "    </tr>\n",
       "    <tr>\n",
       "      <th>2</th>\n",
       "      <td>-24.342578</td>\n",
       "      <td>30.930866</td>\n",
       "      <td>2015-03-07 03:38</td>\n",
       "      <td>90916112</td>\n",
       "      <td>POINT (30.93087 -24.34258)</td>\n",
       "    </tr>\n",
       "    <tr>\n",
       "      <th>3</th>\n",
       "      <td>-24.854614</td>\n",
       "      <td>31.519718</td>\n",
       "      <td>2015-10-07 05:04</td>\n",
       "      <td>37959089</td>\n",
       "      <td>POINT (31.51972 -24.85461)</td>\n",
       "    </tr>\n",
       "    <tr>\n",
       "      <th>4</th>\n",
       "      <td>-24.921069</td>\n",
       "      <td>31.520836</td>\n",
       "      <td>2015-10-07 05:19</td>\n",
       "      <td>27793716</td>\n",
       "      <td>POINT (31.52084 -24.92107)</td>\n",
       "    </tr>\n",
       "  </tbody>\n",
       "</table>\n",
       "</div>"
      ]
     },
     "execution_count": 36,
     "metadata": {},
     "output_type": "execute_result"
    }
   ],
   "execution_count": 36
  },
  {
   "cell_type": "markdown",
   "id": "4e2eaff3",
   "metadata": {},
   "source": [
    "<b>Ćwiczenie 12.</b> Przeprowadź projekcję danych na układ odniesienia EPSG:32735, w którym domyślną jednostką są metry."
   ]
  },
  {
   "cell_type": "code",
   "id": "3b7cbcc3",
   "metadata": {
    "ExecuteTime": {
     "end_time": "2024-11-13T13:44:14.567074Z",
     "start_time": "2024-11-13T13:44:14.468786Z"
    }
   },
   "source": [
    "### your code ###\n",
    "kruger_points = kruger_points.to_crs(epsg=32735)"
   ],
   "outputs": [],
   "execution_count": 37
  },
  {
   "cell_type": "markdown",
   "id": "2a1df4c8",
   "metadata": {},
   "source": [
    "Zweryfikuj poprawność kodu."
   ]
  },
  {
   "cell_type": "code",
   "id": "6cdd44e9",
   "metadata": {
    "ExecuteTime": {
     "end_time": "2024-11-13T13:44:31.191751Z",
     "start_time": "2024-11-13T13:44:31.183143Z"
    }
   },
   "source": [
    "import pyproj\n",
    "\n",
    "assert kruger_points.crs == pyproj.CRS(\"EPSG:32735\"), \"Błędnie wykonana projekcja!\""
   ],
   "outputs": [],
   "execution_count": 38
  },
  {
   "cell_type": "markdown",
   "id": "dfec186b",
   "metadata": {},
   "source": [
    "<b>Ćwiczenie 13.</b> Pogrupuj dane po kolumnie userid w zmiennej o nazwie grouped_by_users."
   ]
  },
  {
   "cell_type": "code",
   "id": "2f28a7ec",
   "metadata": {
    "ExecuteTime": {
     "end_time": "2024-11-13T13:46:11.260056Z",
     "start_time": "2024-11-13T13:46:11.247435Z"
    }
   },
   "source": [
    "### your code ###\n",
    "grouped_by_users = kruger_points.groupby('userid')"
   ],
   "outputs": [],
   "execution_count": 39
  },
  {
   "cell_type": "markdown",
   "id": "4a793aa9",
   "metadata": {},
   "source": [
    "Zweryfikuj poprawność kodu."
   ]
  },
  {
   "cell_type": "code",
   "id": "b22f0eb4",
   "metadata": {
    "ExecuteTime": {
     "end_time": "2024-11-13T13:52:01.936749Z",
     "start_time": "2024-11-13T13:52:01.929562Z"
    }
   },
   "source": "assert len(grouped_by_users.groups) == kruger_points[\"userid\"].nunique(), \"Błędna liczba grup!\"",
   "outputs": [
    {
     "name": "stdout",
     "output_type": "stream",
     "text": [
      "<pandas.core.groupby.generic.DataFrameGroupBy object at 0x00000115F09F6000>\n"
     ]
    }
   ],
   "execution_count": 44
  },
  {
   "cell_type": "markdown",
   "id": "95e8d18a",
   "metadata": {},
   "source": [
    "<b>Ćwiczenie 14.</b> Dla każdego użytkownika posortuj rezultaty po kolumnie timestamp i utwórz obiekt typu LineString na podstawie jego punktów. Pamiętaj, aby pominąć użytkowników, którzy posiadają mniej niż dwa punkty. Rezultaty (zawierające kolumny userid oraz geometry) zapisz w obiekcie typu GeoDataFrame o nazwie movements. Pamiętaj o weryfikacji układu odniesienia."
   ]
  },
  {
   "cell_type": "code",
   "id": "3b1ad0f3",
   "metadata": {
    "ExecuteTime": {
     "end_time": "2024-11-13T14:59:12.846490Z",
     "start_time": "2024-11-13T14:59:06.912176Z"
    }
   },
   "source": [
    "from shapely.geometry import LineString\n",
    "\n",
    "### your code ###\n",
    "lines = []\n",
    "for userid, group in grouped_by_users:\n",
    "    group = group.sort_values('timestamp')\n",
    "    if len(group) > 1:\n",
    "        line = LineString(group.geometry.tolist())\n",
    "        lines.append({'userid': userid, 'geometry': line})\n",
    "        \n",
    "movements = gpd.GeoDataFrame(lines, crs=kruger_points.crs)\n",
    "assert movements.crs == kruger_points.crs, \"Niepoprawny CRS!\""
   ],
   "outputs": [],
   "execution_count": 56
  },
  {
   "cell_type": "markdown",
   "id": "8800fb7b",
   "metadata": {},
   "source": [
    "Zweryfikuj poprawność kodu."
   ]
  },
  {
   "cell_type": "code",
   "id": "69ec60d1",
   "metadata": {
    "ExecuteTime": {
     "end_time": "2024-11-13T14:59:22.878128Z",
     "start_time": "2024-11-13T14:59:22.855078Z"
    }
   },
   "source": [
    "movements"
   ],
   "outputs": [
    {
     "data": {
      "text/plain": [
       "        userid                                           geometry\n",
       "0        16301  LINESTRING (942231.63 7254606.868, 938934.725 ...\n",
       "1        45136  LINESTRING (905394.5 7193375.148, 905394.5 719...\n",
       "2        50136  LINESTRING (944551.607 7253384.183, 963788.403...\n",
       "3        88775  LINESTRING (902800.817 7192546.975, 902800.839...\n",
       "4        88918  LINESTRING (959332.961 7219877.715, 963788.403...\n",
       "...        ...                                                ...\n",
       "9021  99921781  LINESTRING (902885.19 7196931.096, 904027.71 7...\n",
       "9022  99936874  LINESTRING (963782.211 7228000.079, 963754.402...\n",
       "9023  99964140  LINESTRING (938876.653 7305143.369, 938876.943...\n",
       "9024  99986933  LINESTRING (935937.029 7305973.536, 936598.681...\n",
       "9025  99990870  LINESTRING (899089.377 7180296.561, 899089.377...\n",
       "\n",
       "[9026 rows x 2 columns]"
      ],
      "text/html": [
       "<div>\n",
       "<style scoped>\n",
       "    .dataframe tbody tr th:only-of-type {\n",
       "        vertical-align: middle;\n",
       "    }\n",
       "\n",
       "    .dataframe tbody tr th {\n",
       "        vertical-align: top;\n",
       "    }\n",
       "\n",
       "    .dataframe thead th {\n",
       "        text-align: right;\n",
       "    }\n",
       "</style>\n",
       "<table border=\"1\" class=\"dataframe\">\n",
       "  <thead>\n",
       "    <tr style=\"text-align: right;\">\n",
       "      <th></th>\n",
       "      <th>userid</th>\n",
       "      <th>geometry</th>\n",
       "    </tr>\n",
       "  </thead>\n",
       "  <tbody>\n",
       "    <tr>\n",
       "      <th>0</th>\n",
       "      <td>16301</td>\n",
       "      <td>LINESTRING (942231.63 7254606.868, 938934.725 ...</td>\n",
       "    </tr>\n",
       "    <tr>\n",
       "      <th>1</th>\n",
       "      <td>45136</td>\n",
       "      <td>LINESTRING (905394.5 7193375.148, 905394.5 719...</td>\n",
       "    </tr>\n",
       "    <tr>\n",
       "      <th>2</th>\n",
       "      <td>50136</td>\n",
       "      <td>LINESTRING (944551.607 7253384.183, 963788.403...</td>\n",
       "    </tr>\n",
       "    <tr>\n",
       "      <th>3</th>\n",
       "      <td>88775</td>\n",
       "      <td>LINESTRING (902800.817 7192546.975, 902800.839...</td>\n",
       "    </tr>\n",
       "    <tr>\n",
       "      <th>4</th>\n",
       "      <td>88918</td>\n",
       "      <td>LINESTRING (959332.961 7219877.715, 963788.403...</td>\n",
       "    </tr>\n",
       "    <tr>\n",
       "      <th>...</th>\n",
       "      <td>...</td>\n",
       "      <td>...</td>\n",
       "    </tr>\n",
       "    <tr>\n",
       "      <th>9021</th>\n",
       "      <td>99921781</td>\n",
       "      <td>LINESTRING (902885.19 7196931.096, 904027.71 7...</td>\n",
       "    </tr>\n",
       "    <tr>\n",
       "      <th>9022</th>\n",
       "      <td>99936874</td>\n",
       "      <td>LINESTRING (963782.211 7228000.079, 963754.402...</td>\n",
       "    </tr>\n",
       "    <tr>\n",
       "      <th>9023</th>\n",
       "      <td>99964140</td>\n",
       "      <td>LINESTRING (938876.653 7305143.369, 938876.943...</td>\n",
       "    </tr>\n",
       "    <tr>\n",
       "      <th>9024</th>\n",
       "      <td>99986933</td>\n",
       "      <td>LINESTRING (935937.029 7305973.536, 936598.681...</td>\n",
       "    </tr>\n",
       "    <tr>\n",
       "      <th>9025</th>\n",
       "      <td>99990870</td>\n",
       "      <td>LINESTRING (899089.377 7180296.561, 899089.377...</td>\n",
       "    </tr>\n",
       "  </tbody>\n",
       "</table>\n",
       "<p>9026 rows × 2 columns</p>\n",
       "</div>"
      ]
     },
     "execution_count": 57,
     "metadata": {},
     "output_type": "execute_result"
    }
   ],
   "execution_count": 57
  },
  {
   "cell_type": "markdown",
   "id": "e8b7985e",
   "metadata": {},
   "source": [
    "<b>Ćwiczenie 15.</b> Dodaj kolumnę o nazwie distance, która będzie przechowywać długość linii."
   ]
  },
  {
   "cell_type": "code",
   "id": "6c19b76e",
   "metadata": {
    "ExecuteTime": {
     "end_time": "2024-11-13T15:00:54.083747Z",
     "start_time": "2024-11-13T15:00:54.069563Z"
    }
   },
   "source": [
    "### your code ###\n",
    "movements['distance'] = movements['geometry'].length\n"
   ],
   "outputs": [],
   "execution_count": 59
  },
  {
   "cell_type": "markdown",
   "id": "78869688",
   "metadata": {},
   "source": [
    "Zweryfikuj poprawność kodu."
   ]
  },
  {
   "cell_type": "code",
   "id": "95cae349",
   "metadata": {
    "ExecuteTime": {
     "end_time": "2024-11-13T15:00:57.878803Z",
     "start_time": "2024-11-13T15:00:57.862236Z"
    }
   },
   "source": [
    "movements.head()"
   ],
   "outputs": [
    {
     "data": {
      "text/plain": [
       "   userid                                           geometry       distance\n",
       "0   16301  LINESTRING (942231.63 7254606.868, 938934.725 ...  328455.115430\n",
       "1   45136  LINESTRING (905394.5 7193375.148, 905394.5 719...       0.000000\n",
       "2   50136  LINESTRING (944551.607 7253384.183, 963788.403...  159189.081019\n",
       "3   88775  LINESTRING (902800.817 7192546.975, 902800.839...       0.080245\n",
       "4   88918  LINESTRING (959332.961 7219877.715, 963788.403...    9277.252211"
      ],
      "text/html": [
       "<div>\n",
       "<style scoped>\n",
       "    .dataframe tbody tr th:only-of-type {\n",
       "        vertical-align: middle;\n",
       "    }\n",
       "\n",
       "    .dataframe tbody tr th {\n",
       "        vertical-align: top;\n",
       "    }\n",
       "\n",
       "    .dataframe thead th {\n",
       "        text-align: right;\n",
       "    }\n",
       "</style>\n",
       "<table border=\"1\" class=\"dataframe\">\n",
       "  <thead>\n",
       "    <tr style=\"text-align: right;\">\n",
       "      <th></th>\n",
       "      <th>userid</th>\n",
       "      <th>geometry</th>\n",
       "      <th>distance</th>\n",
       "    </tr>\n",
       "  </thead>\n",
       "  <tbody>\n",
       "    <tr>\n",
       "      <th>0</th>\n",
       "      <td>16301</td>\n",
       "      <td>LINESTRING (942231.63 7254606.868, 938934.725 ...</td>\n",
       "      <td>328455.115430</td>\n",
       "    </tr>\n",
       "    <tr>\n",
       "      <th>1</th>\n",
       "      <td>45136</td>\n",
       "      <td>LINESTRING (905394.5 7193375.148, 905394.5 719...</td>\n",
       "      <td>0.000000</td>\n",
       "    </tr>\n",
       "    <tr>\n",
       "      <th>2</th>\n",
       "      <td>50136</td>\n",
       "      <td>LINESTRING (944551.607 7253384.183, 963788.403...</td>\n",
       "      <td>159189.081019</td>\n",
       "    </tr>\n",
       "    <tr>\n",
       "      <th>3</th>\n",
       "      <td>88775</td>\n",
       "      <td>LINESTRING (902800.817 7192546.975, 902800.839...</td>\n",
       "      <td>0.080245</td>\n",
       "    </tr>\n",
       "    <tr>\n",
       "      <th>4</th>\n",
       "      <td>88918</td>\n",
       "      <td>LINESTRING (959332.961 7219877.715, 963788.403...</td>\n",
       "      <td>9277.252211</td>\n",
       "    </tr>\n",
       "  </tbody>\n",
       "</table>\n",
       "</div>"
      ]
     },
     "execution_count": 60,
     "metadata": {},
     "output_type": "execute_result"
    }
   ],
   "execution_count": 60
  },
  {
   "cell_type": "markdown",
   "id": "a5cc1b28",
   "metadata": {},
   "source": [
    "<b>Ćwiczenie 16.</b> Odpowiedz na poniższe pytania i zapisz ich rezultaty w podanych zmiennych:<br/>\n",
    "1. Jaki był najkrótszy dystans pokonany przez użytkownika (shortest_distance)?<br/>\n",
    "2. Jaki był średni dystans pokonany przez użytkownika (mean_distance)?<br/>\n",
    "3. Jaki był najdłuższy dystans pokonany przez użytkownika (longest_distance)?<br/>"
   ]
  },
  {
   "cell_type": "code",
   "id": "8919ef47",
   "metadata": {
    "ExecuteTime": {
     "end_time": "2024-11-13T15:02:57.104856Z",
     "start_time": "2024-11-13T15:02:57.084234Z"
    }
   },
   "source": [
    "### your code ###\n",
    "shortest_distance = movements['distance'].min()\n",
    "print(shortest_distance)\n",
    "mean_distance = movements['distance'].mean()\n",
    "print(mean_distance)\n",
    "longest_distance = movements['distance'].max()\n",
    "print(longest_distance)"
   ],
   "outputs": [
    {
     "name": "stdout",
     "output_type": "stream",
     "text": [
      "0.0\n",
      "107133.51202944393\n",
      "6970668.816343964\n"
     ]
    }
   ],
   "execution_count": 61
  },
  {
   "cell_type": "markdown",
   "id": "5b218652",
   "metadata": {},
   "source": [
    "<b>Ćwiczenie 17.</b> Zapisz plik w formacie Shapefile pod nazwą ``movements.shp``."
   ]
  },
  {
   "cell_type": "code",
   "id": "c1d510fc",
   "metadata": {
    "ExecuteTime": {
     "end_time": "2024-11-13T14:03:50.732742Z",
     "start_time": "2024-11-13T14:03:50.565269Z"
    }
   },
   "source": [
    "### your code ###\n",
    "movements.to_file(\"movements.shp\", driver=\"ESRI Shapefile\")"
   ],
   "outputs": [],
   "execution_count": 52
  },
  {
   "cell_type": "markdown",
   "id": "55e1192d",
   "metadata": {},
   "source": [
    "Zweryfikuj poprawność kodu."
   ]
  },
  {
   "cell_type": "code",
   "id": "2d3e7292",
   "metadata": {
    "ExecuteTime": {
     "end_time": "2024-11-13T14:03:54.667961Z",
     "start_time": "2024-11-13T14:03:54.653652Z"
    }
   },
   "source": [
    "assert (pathlib.Path().resolve() / \"movements.shp\").exists(), \"Plik nie został zapisany!\""
   ],
   "outputs": [],
   "execution_count": 53
  },
  {
   "metadata": {},
   "cell_type": "code",
   "outputs": [],
   "execution_count": null,
   "source": "",
   "id": "b0d286d92ebd7a34"
  }
 ],
 "metadata": {
  "celltoolbar": "Edit Metadata",
  "kernelspec": {
   "display_name": "Python 3",
   "language": "python",
   "name": "python3"
  },
  "language_info": {
   "codemirror_mode": {
    "name": "ipython",
    "version": 3
   },
   "file_extension": ".py",
   "mimetype": "text/x-python",
   "name": "python",
   "nbconvert_exporter": "python",
   "pygments_lexer": "ipython3",
   "version": "3.5.4"
  }
 },
 "nbformat": 4,
 "nbformat_minor": 5
}
